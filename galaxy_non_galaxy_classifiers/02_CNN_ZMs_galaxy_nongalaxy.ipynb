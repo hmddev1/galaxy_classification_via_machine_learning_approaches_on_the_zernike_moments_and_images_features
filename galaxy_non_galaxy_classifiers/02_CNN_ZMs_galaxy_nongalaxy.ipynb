{
  "cells": [
    {
      "cell_type": "code",
      "execution_count": null,
      "metadata": {
        "id": "365GF_kTp9wE"
      },
      "outputs": [],
      "source": [
        "import pandas as pd\n",
        "import numpy as np\n",
        "import matplotlib.pyplot as plt\n",
        "%matplotlib inline\n",
        "import warnings\n",
        "warnings.filterwarnings(\"ignore\")\n",
        "\n",
        "#Tensorflow\n",
        "import tensorflow as tf\n",
        "from tensorflow.keras import Model\n",
        "from tensorflow.keras.layers import Conv1D, MaxPooling1D, Flatten, Dense\n",
        "from tensorflow.keras.layers import (Dense, Activation, Dropout,BatchNormalization, Input, Conv1D, Conv2D, Flatten,\n",
        "                             Convolution2D, MaxPool2D, MaxPooling1D, MaxPooling2D)\n",
        "from tensorflow.keras.callbacks import LearningRateScheduler\n",
        "from keras.utils import to_categorical\n",
        "from keras.callbacks import ModelCheckpoint, EarlyStopping\n",
        "\n",
        "\n",
        "#Scikit_learn\n",
        "from sklearn.model_selection import train_test_split\n",
        "from sklearn.metrics import (roc_curve, roc_auc_score, auc, log_loss,\n",
        "                             precision_score, recall_score, f1_score,\n",
        "                             accuracy_score, classification_report,\n",
        "                             ConfusionMatrixDisplay, confusion_matrix)\n",
        "from sklearn import metrics"
      ]
    },
    {
      "cell_type": "code",
      "source": [
        "from google.colab import drive\n",
        "drive.mount('/content/drive')"
      ],
      "metadata": {
        "colab": {
          "base_uri": "https://localhost:8080/"
        },
        "id": "14h8SUaXp_vw",
        "outputId": "be4b1303-9024-490d-879c-07164229f255"
      },
      "execution_count": null,
      "outputs": [
        {
          "output_type": "stream",
          "name": "stdout",
          "text": [
            "Mounted at /content/drive\n"
          ]
        }
      ]
    },
    {
      "cell_type": "code",
      "execution_count": null,
      "metadata": {
        "id": "YG2bihyxp9wF",
        "colab": {
          "base_uri": "https://localhost:8080/"
        },
        "outputId": "57cb8373-3dcc-4a61-a6d7-785077f4c37a"
      },
      "outputs": [
        {
          "output_type": "execute_result",
          "data": {
            "text/plain": [
              "(780, 545, 1325)"
            ]
          },
          "metadata": {},
          "execution_count": 3
        }
      ],
      "source": [
        "zm_stars1 = pd.read_csv('/content/drive/MyDrive/Data/star_galaxy/ZMs/last/star_45_0.csv')\n",
        "zm_galaxies1 = pd.read_csv('/content/drive/MyDrive/Data/star_galaxy/ZMs/last/galaxy_45_0.csv')\n",
        "zm_stars1.drop(\"Unnamed: 0\", axis = 1, inplace = True)\n",
        "zm_galaxies1.drop(\"Unnamed: 0\", axis = 1, inplace = True)\n",
        "zms1 = np.array(zm_stars1)\n",
        "zmg1 = np.array(zm_galaxies1)\n",
        "\n",
        "all_zm_data = np.concatenate([zmg1,zms1])\n",
        "len(zmg1), len(zms1), len(all_zm_data)"
      ]
    },
    {
      "cell_type": "code",
      "execution_count": null,
      "metadata": {
        "id": "BSb86YeSp9wF",
        "colab": {
          "base_uri": "https://localhost:8080/"
        },
        "outputId": "73b815cf-d8be-4049-a0fb-3185cc61c889"
      },
      "outputs": [
        {
          "output_type": "execute_result",
          "data": {
            "text/plain": [
              "1325"
            ]
          },
          "metadata": {},
          "execution_count": 4
        }
      ],
      "source": [
        "galaxies_labels = np.zeros(780)\n",
        "stars_labels = np.ones(545)\n",
        "all_labels = np.concatenate([galaxies_labels, stars_labels])\n",
        "len(all_labels)"
      ]
    },
    {
      "cell_type": "code",
      "source": [
        "X_train_list=[]\n",
        "y_train_list=[]\n",
        "X_test_list=[]\n",
        "y_test_list=[]\n",
        "models=[]\n",
        "Y_pred=[]\n",
        "accs=[]\n",
        "cons=[]\n",
        "aucs=[]\n",
        "fprs=[]\n",
        "tprs=[]\n",
        "TP_list = []\n",
        "FP_list = []\n",
        "TN_list = []\n",
        "FN_list = []\n",
        "test_indx=[]\n",
        "\n",
        "batch_size = 64\n",
        "NUM_EPOCH = 30\n",
        "\n",
        "for i in range (10):\n",
        "    X_train, X_test, y_train, y_test, train_indices, test_indices = train_test_split(all_zm_data, all_labels, np.arange(len(all_labels)), test_size=0.25, shuffle=True, random_state=None)\n",
        "    X_train_list.append(X_train)\n",
        "    y_train_list.append(y_train)\n",
        "    X_test_list.append(X_test)\n",
        "    y_test_list.append(y_test)\n",
        "    test_indx.append(test_indices)\n",
        "\n",
        "    class_weights = {0: len(all_zm_data) / (2*len(zmg1)), 1: len(all_zm_data) / (2*len(zms1))}\n",
        "    y_train_encoded = to_categorical(y_train, num_classes=2)\n",
        "\n",
        "    # input\n",
        "    x = Input(shape=(1081,1))\n",
        "\n",
        "    #hidden layers\n",
        "    c0 = Conv1D(256, kernel_size=3, strides=2, padding=\"same\")(x)\n",
        "    b0 = BatchNormalization()(c0)\n",
        "    m0 = MaxPooling1D(pool_size=2)(b0)\n",
        "    d0 = Dropout(0.1)(m0)\n",
        "\n",
        "    c1 = Conv1D(128, kernel_size=3, strides=2, padding=\"same\")(d0)\n",
        "    b1 = BatchNormalization()(c1)\n",
        "    m1 = MaxPooling1D(pool_size=2)(b1)\n",
        "    d1 = Dropout(0.1)(m1)\n",
        "\n",
        "    c2 = Conv1D(64, kernel_size=3, strides=2, padding=\"same\")(d1)\n",
        "    b2 = BatchNormalization()(c2)\n",
        "    m2 = MaxPooling1D(pool_size=2)(b2)\n",
        "    d2 = Dropout(0.1)(m2)\n",
        "\n",
        "    f = Flatten()(d2)\n",
        "\n",
        "    de0 = Dense(64, activation='relu')(f)\n",
        "    de1 = Dense(32, activation='relu')(de0)\n",
        "    de2 = Dense(2, activation='softmax')(de1)\n",
        "\n",
        "    model = Model(inputs=x, outputs=de2, name=\"cnn_zm_45_galaxy_nonegalaxy\")\n",
        "    loss = tf.keras.losses.CategoricalCrossentropy(from_logits=True)\n",
        "    optimizer = tf.keras.optimizers.Adam()\n",
        "    model.compile(loss=loss, optimizer=optimizer, metrics=['accuracy'])\n",
        "\n",
        "    # Callback Functions\n",
        "    es = EarlyStopping(monitor='val_loss', mode='min', verbose=1, patience=10)\n",
        "\n",
        "    history = model.fit(\n",
        "    X_train, y_train_encoded,\n",
        "    batch_size=batch_size,\n",
        "    epochs=NUM_EPOCH,\n",
        "    class_weight=class_weights,\n",
        "    verbose = 1,\n",
        "    callbacks=es,\n",
        "    validation_split=0.1\n",
        "    )\n",
        "    models.append(history)\n",
        "\n",
        "    y_pred = model.predict(X_test)\n",
        "    y_pred_labels = np.argmax(y_pred, axis=1)\n",
        "    Y_pred.append(y_pred_labels)\n",
        "\n",
        "    con0 = metrics.confusion_matrix(y_test, y_pred_labels)\n",
        "    cons.append(con0)\n",
        "\n",
        "    tn, fp, fn, tp = confusion_matrix(y_test, y_pred_labels).ravel()\n",
        "    TN_list.append(tn)\n",
        "    FP_list.append(fp)\n",
        "    FN_list.append(fn)\n",
        "    TP_list.append(tp)\n",
        "\n",
        "    acc = metrics.accuracy_score(y_test, y_pred_labels)\n",
        "    accs.append(acc)\n",
        "\n",
        "    fpr, tpr, _ = metrics.roc_curve(y_test,  y_pred_labels)\n",
        "    fprs.append(fpr)\n",
        "    tprs.append(tpr)\n",
        "\n",
        "    auc = metrics.roc_auc_score(y_test, y_pred_labels)\n",
        "    aucs.append(auc)"
      ],
      "metadata": {
        "colab": {
          "base_uri": "https://localhost:8080/"
        },
        "id": "RnzYfEfdnE7k",
        "outputId": "b359c862-ea8d-417a-ab20-fa25ec7a2301"
      },
      "execution_count": null,
      "outputs": [
        {
          "output_type": "stream",
          "name": "stdout",
          "text": [
            "Epoch 1/30\n",
            "14/14 [==============================] - 10s 70ms/step - loss: 0.6499 - accuracy: 0.7088 - val_loss: 4.4980 - val_accuracy: 0.5600\n",
            "Epoch 2/30\n",
            "14/14 [==============================] - 0s 21ms/step - loss: 0.4434 - accuracy: 0.8108 - val_loss: 1.9953 - val_accuracy: 0.6800\n",
            "Epoch 3/30\n",
            "14/14 [==============================] - 0s 20ms/step - loss: 0.4102 - accuracy: 0.8119 - val_loss: 1.0564 - val_accuracy: 0.7400\n",
            "Epoch 4/30\n",
            "14/14 [==============================] - 0s 20ms/step - loss: 0.3713 - accuracy: 0.8331 - val_loss: 0.4429 - val_accuracy: 0.8400\n",
            "Epoch 5/30\n",
            "14/14 [==============================] - 0s 20ms/step - loss: 0.3644 - accuracy: 0.8387 - val_loss: 0.4728 - val_accuracy: 0.8300\n",
            "Epoch 6/30\n",
            "14/14 [==============================] - 0s 20ms/step - loss: 0.2997 - accuracy: 0.8656 - val_loss: 0.5296 - val_accuracy: 0.8200\n",
            "Epoch 7/30\n",
            "14/14 [==============================] - 0s 20ms/step - loss: 0.3276 - accuracy: 0.8656 - val_loss: 0.4056 - val_accuracy: 0.8300\n",
            "Epoch 8/30\n",
            "14/14 [==============================] - 0s 20ms/step - loss: 0.3013 - accuracy: 0.8645 - val_loss: 0.4224 - val_accuracy: 0.7800\n",
            "Epoch 9/30\n",
            "14/14 [==============================] - 0s 21ms/step - loss: 0.2593 - accuracy: 0.8992 - val_loss: 0.4377 - val_accuracy: 0.8400\n",
            "Epoch 10/30\n",
            "14/14 [==============================] - 0s 20ms/step - loss: 0.2476 - accuracy: 0.9127 - val_loss: 0.4157 - val_accuracy: 0.7900\n",
            "Epoch 11/30\n",
            "14/14 [==============================] - 0s 20ms/step - loss: 0.2251 - accuracy: 0.9059 - val_loss: 0.4498 - val_accuracy: 0.8200\n",
            "Epoch 12/30\n",
            "14/14 [==============================] - 0s 20ms/step - loss: 0.2045 - accuracy: 0.9171 - val_loss: 0.5009 - val_accuracy: 0.8200\n",
            "Epoch 13/30\n",
            "14/14 [==============================] - 0s 21ms/step - loss: 0.1985 - accuracy: 0.9261 - val_loss: 0.4792 - val_accuracy: 0.8300\n",
            "Epoch 14/30\n",
            "14/14 [==============================] - 0s 21ms/step - loss: 0.1700 - accuracy: 0.9418 - val_loss: 0.5558 - val_accuracy: 0.8400\n",
            "Epoch 15/30\n",
            "14/14 [==============================] - 0s 20ms/step - loss: 0.1559 - accuracy: 0.9418 - val_loss: 0.5625 - val_accuracy: 0.8300\n",
            "Epoch 16/30\n",
            "14/14 [==============================] - 0s 20ms/step - loss: 0.1402 - accuracy: 0.9429 - val_loss: 0.5037 - val_accuracy: 0.8000\n",
            "Epoch 17/30\n",
            "14/14 [==============================] - 0s 20ms/step - loss: 0.1223 - accuracy: 0.9518 - val_loss: 0.4825 - val_accuracy: 0.8000\n",
            "Epoch 17: early stopping\n",
            "11/11 [==============================] - 0s 14ms/step\n",
            "Epoch 1/30\n",
            "14/14 [==============================] - 5s 77ms/step - loss: 0.5842 - accuracy: 0.7111 - val_loss: 7.1409 - val_accuracy: 0.5300\n",
            "Epoch 2/30\n",
            "14/14 [==============================] - 0s 22ms/step - loss: 0.4643 - accuracy: 0.7850 - val_loss: 2.1392 - val_accuracy: 0.7200\n",
            "Epoch 3/30\n",
            "14/14 [==============================] - 0s 21ms/step - loss: 0.4178 - accuracy: 0.8331 - val_loss: 1.0863 - val_accuracy: 0.8000\n",
            "Epoch 4/30\n",
            "14/14 [==============================] - 0s 21ms/step - loss: 0.4020 - accuracy: 0.8242 - val_loss: 0.4129 - val_accuracy: 0.8600\n",
            "Epoch 5/30\n",
            "14/14 [==============================] - 0s 21ms/step - loss: 0.3688 - accuracy: 0.8387 - val_loss: 0.4045 - val_accuracy: 0.8600\n",
            "Epoch 6/30\n",
            "14/14 [==============================] - 0s 21ms/step - loss: 0.3019 - accuracy: 0.8768 - val_loss: 0.6255 - val_accuracy: 0.8600\n",
            "Epoch 7/30\n",
            "14/14 [==============================] - 0s 21ms/step - loss: 0.2882 - accuracy: 0.8835 - val_loss: 0.5288 - val_accuracy: 0.8600\n",
            "Epoch 8/30\n",
            "14/14 [==============================] - 0s 21ms/step - loss: 0.3116 - accuracy: 0.8611 - val_loss: 0.4627 - val_accuracy: 0.8200\n",
            "Epoch 9/30\n",
            "14/14 [==============================] - 0s 21ms/step - loss: 0.2701 - accuracy: 0.8802 - val_loss: 0.4348 - val_accuracy: 0.8100\n",
            "Epoch 10/30\n",
            "14/14 [==============================] - 0s 21ms/step - loss: 0.2318 - accuracy: 0.9205 - val_loss: 0.4395 - val_accuracy: 0.8200\n",
            "Epoch 11/30\n",
            "14/14 [==============================] - 0s 20ms/step - loss: 0.1858 - accuracy: 0.9339 - val_loss: 0.5352 - val_accuracy: 0.8500\n",
            "Epoch 12/30\n",
            "14/14 [==============================] - 0s 20ms/step - loss: 0.1650 - accuracy: 0.9339 - val_loss: 0.5538 - val_accuracy: 0.8100\n",
            "Epoch 13/30\n",
            "14/14 [==============================] - 0s 21ms/step - loss: 0.1857 - accuracy: 0.9317 - val_loss: 0.6059 - val_accuracy: 0.8200\n",
            "Epoch 14/30\n",
            "14/14 [==============================] - 0s 21ms/step - loss: 0.1660 - accuracy: 0.9362 - val_loss: 0.6787 - val_accuracy: 0.8100\n",
            "Epoch 15/30\n",
            "14/14 [==============================] - 0s 20ms/step - loss: 0.1545 - accuracy: 0.9362 - val_loss: 0.6443 - val_accuracy: 0.7800\n",
            "Epoch 15: early stopping\n",
            "11/11 [==============================] - 0s 4ms/step\n",
            "Epoch 1/30\n",
            "14/14 [==============================] - 4s 102ms/step - loss: 0.5609 - accuracy: 0.7200 - val_loss: 1.7260 - val_accuracy: 0.7500\n",
            "Epoch 2/30\n",
            "14/14 [==============================] - 0s 25ms/step - loss: 0.4675 - accuracy: 0.7872 - val_loss: 2.1946 - val_accuracy: 0.7100\n",
            "Epoch 3/30\n",
            "14/14 [==============================] - 0s 24ms/step - loss: 0.4076 - accuracy: 0.8231 - val_loss: 0.7938 - val_accuracy: 0.8100\n",
            "Epoch 4/30\n",
            "14/14 [==============================] - 0s 24ms/step - loss: 0.3771 - accuracy: 0.8365 - val_loss: 0.5732 - val_accuracy: 0.8300\n",
            "Epoch 5/30\n",
            "14/14 [==============================] - 0s 23ms/step - loss: 0.3641 - accuracy: 0.8421 - val_loss: 0.6199 - val_accuracy: 0.8100\n",
            "Epoch 6/30\n",
            "14/14 [==============================] - 0s 24ms/step - loss: 0.3419 - accuracy: 0.8511 - val_loss: 0.4419 - val_accuracy: 0.8300\n",
            "Epoch 7/30\n",
            "14/14 [==============================] - 0s 23ms/step - loss: 0.3146 - accuracy: 0.8623 - val_loss: 0.4215 - val_accuracy: 0.8400\n",
            "Epoch 8/30\n",
            "14/14 [==============================] - 0s 23ms/step - loss: 0.2932 - accuracy: 0.8679 - val_loss: 0.3857 - val_accuracy: 0.8300\n",
            "Epoch 9/30\n",
            "14/14 [==============================] - 0s 20ms/step - loss: 0.2843 - accuracy: 0.8858 - val_loss: 0.4374 - val_accuracy: 0.8300\n",
            "Epoch 10/30\n",
            "14/14 [==============================] - 0s 20ms/step - loss: 0.2650 - accuracy: 0.8869 - val_loss: 0.5381 - val_accuracy: 0.8100\n",
            "Epoch 11/30\n",
            "14/14 [==============================] - 0s 21ms/step - loss: 0.2366 - accuracy: 0.9026 - val_loss: 0.4162 - val_accuracy: 0.8400\n",
            "Epoch 12/30\n",
            "14/14 [==============================] - 0s 21ms/step - loss: 0.2278 - accuracy: 0.9082 - val_loss: 0.4128 - val_accuracy: 0.8500\n",
            "Epoch 13/30\n",
            "14/14 [==============================] - 0s 21ms/step - loss: 0.1913 - accuracy: 0.9362 - val_loss: 0.3792 - val_accuracy: 0.8100\n",
            "Epoch 14/30\n",
            "14/14 [==============================] - 0s 21ms/step - loss: 0.1731 - accuracy: 0.9429 - val_loss: 0.3723 - val_accuracy: 0.8400\n",
            "Epoch 15/30\n",
            "14/14 [==============================] - 0s 21ms/step - loss: 0.1708 - accuracy: 0.9418 - val_loss: 0.3879 - val_accuracy: 0.8700\n",
            "Epoch 16/30\n",
            "14/14 [==============================] - 0s 20ms/step - loss: 0.1395 - accuracy: 0.9518 - val_loss: 0.3192 - val_accuracy: 0.8500\n",
            "Epoch 17/30\n",
            "14/14 [==============================] - 0s 21ms/step - loss: 0.1341 - accuracy: 0.9496 - val_loss: 0.3733 - val_accuracy: 0.8400\n",
            "Epoch 18/30\n",
            "14/14 [==============================] - 0s 20ms/step - loss: 0.1322 - accuracy: 0.9530 - val_loss: 0.3776 - val_accuracy: 0.8700\n",
            "Epoch 19/30\n",
            "14/14 [==============================] - 0s 21ms/step - loss: 0.1078 - accuracy: 0.9664 - val_loss: 0.5793 - val_accuracy: 0.8200\n",
            "Epoch 20/30\n",
            "14/14 [==============================] - 0s 21ms/step - loss: 0.0879 - accuracy: 0.9709 - val_loss: 0.3988 - val_accuracy: 0.8600\n",
            "Epoch 21/30\n",
            "14/14 [==============================] - 0s 20ms/step - loss: 0.1068 - accuracy: 0.9642 - val_loss: 0.4491 - val_accuracy: 0.8000\n",
            "Epoch 22/30\n",
            "14/14 [==============================] - 0s 20ms/step - loss: 0.0860 - accuracy: 0.9731 - val_loss: 0.4202 - val_accuracy: 0.8500\n",
            "Epoch 23/30\n",
            "14/14 [==============================] - 0s 21ms/step - loss: 0.0711 - accuracy: 0.9787 - val_loss: 0.3918 - val_accuracy: 0.8800\n",
            "Epoch 24/30\n",
            "14/14 [==============================] - 0s 21ms/step - loss: 0.0545 - accuracy: 0.9866 - val_loss: 0.5057 - val_accuracy: 0.8500\n",
            "Epoch 25/30\n",
            "14/14 [==============================] - 0s 20ms/step - loss: 0.0514 - accuracy: 0.9787 - val_loss: 0.4173 - val_accuracy: 0.8300\n",
            "Epoch 26/30\n",
            "14/14 [==============================] - 0s 20ms/step - loss: 0.0407 - accuracy: 0.9922 - val_loss: 0.4587 - val_accuracy: 0.8400\n",
            "Epoch 26: early stopping\n",
            "11/11 [==============================] - 0s 3ms/step\n",
            "Epoch 1/30\n",
            "14/14 [==============================] - 4s 53ms/step - loss: 0.6231 - accuracy: 0.6876 - val_loss: 1.9665 - val_accuracy: 0.7600\n",
            "Epoch 2/30\n",
            "14/14 [==============================] - 0s 24ms/step - loss: 0.4516 - accuracy: 0.8085 - val_loss: 0.6202 - val_accuracy: 0.8500\n",
            "Epoch 3/30\n",
            "14/14 [==============================] - 0s 27ms/step - loss: 0.4235 - accuracy: 0.8197 - val_loss: 0.7525 - val_accuracy: 0.8300\n",
            "Epoch 4/30\n",
            "14/14 [==============================] - 0s 26ms/step - loss: 0.3785 - accuracy: 0.8466 - val_loss: 0.4141 - val_accuracy: 0.8800\n",
            "Epoch 5/30\n",
            "14/14 [==============================] - 0s 29ms/step - loss: 0.3462 - accuracy: 0.8511 - val_loss: 0.5699 - val_accuracy: 0.8200\n",
            "Epoch 6/30\n",
            "14/14 [==============================] - 0s 32ms/step - loss: 0.3285 - accuracy: 0.8701 - val_loss: 0.4110 - val_accuracy: 0.8800\n",
            "Epoch 7/30\n",
            "14/14 [==============================] - 0s 27ms/step - loss: 0.3384 - accuracy: 0.8746 - val_loss: 0.5394 - val_accuracy: 0.8500\n",
            "Epoch 8/30\n",
            "14/14 [==============================] - 0s 25ms/step - loss: 0.3005 - accuracy: 0.8735 - val_loss: 0.4367 - val_accuracy: 0.7900\n",
            "Epoch 9/30\n",
            "14/14 [==============================] - 0s 23ms/step - loss: 0.2876 - accuracy: 0.8891 - val_loss: 0.3919 - val_accuracy: 0.8200\n",
            "Epoch 10/30\n",
            "14/14 [==============================] - 0s 23ms/step - loss: 0.2475 - accuracy: 0.8936 - val_loss: 0.4709 - val_accuracy: 0.7600\n",
            "Epoch 11/30\n",
            "14/14 [==============================] - 0s 25ms/step - loss: 0.2307 - accuracy: 0.9171 - val_loss: 0.5836 - val_accuracy: 0.7100\n",
            "Epoch 12/30\n",
            "14/14 [==============================] - 0s 23ms/step - loss: 0.2233 - accuracy: 0.9160 - val_loss: 0.4654 - val_accuracy: 0.7500\n",
            "Epoch 13/30\n",
            "14/14 [==============================] - 0s 23ms/step - loss: 0.1967 - accuracy: 0.9250 - val_loss: 0.4718 - val_accuracy: 0.7800\n",
            "Epoch 14/30\n",
            "14/14 [==============================] - 0s 25ms/step - loss: 0.1934 - accuracy: 0.9272 - val_loss: 0.4824 - val_accuracy: 0.7900\n",
            "Epoch 15/30\n",
            "14/14 [==============================] - 0s 21ms/step - loss: 0.1826 - accuracy: 0.9339 - val_loss: 0.4930 - val_accuracy: 0.8000\n",
            "Epoch 16/30\n",
            "14/14 [==============================] - 0s 21ms/step - loss: 0.1534 - accuracy: 0.9462 - val_loss: 0.6097 - val_accuracy: 0.7300\n",
            "Epoch 17/30\n",
            "14/14 [==============================] - 0s 20ms/step - loss: 0.1256 - accuracy: 0.9541 - val_loss: 0.6641 - val_accuracy: 0.7200\n",
            "Epoch 18/30\n",
            "14/14 [==============================] - 0s 21ms/step - loss: 0.1147 - accuracy: 0.9619 - val_loss: 0.5644 - val_accuracy: 0.8000\n",
            "Epoch 19/30\n",
            "14/14 [==============================] - 0s 21ms/step - loss: 0.1147 - accuracy: 0.9619 - val_loss: 0.6516 - val_accuracy: 0.7700\n",
            "Epoch 19: early stopping\n",
            "11/11 [==============================] - 0s 3ms/step\n",
            "Epoch 1/30\n",
            "14/14 [==============================] - 3s 43ms/step - loss: 0.6275 - accuracy: 0.6786 - val_loss: 3.4441 - val_accuracy: 0.7000\n",
            "Epoch 2/30\n",
            "14/14 [==============================] - 0s 22ms/step - loss: 0.4539 - accuracy: 0.7984 - val_loss: 1.2693 - val_accuracy: 0.7600\n",
            "Epoch 3/30\n",
            "14/14 [==============================] - 0s 21ms/step - loss: 0.3793 - accuracy: 0.8466 - val_loss: 0.7225 - val_accuracy: 0.7900\n",
            "Epoch 4/30\n",
            "14/14 [==============================] - 0s 21ms/step - loss: 0.3614 - accuracy: 0.8421 - val_loss: 0.6019 - val_accuracy: 0.7700\n",
            "Epoch 5/30\n",
            "14/14 [==============================] - 0s 21ms/step - loss: 0.3772 - accuracy: 0.8354 - val_loss: 0.5759 - val_accuracy: 0.8100\n",
            "Epoch 6/30\n",
            "14/14 [==============================] - 0s 20ms/step - loss: 0.3486 - accuracy: 0.8589 - val_loss: 0.4586 - val_accuracy: 0.8000\n",
            "Epoch 7/30\n",
            "14/14 [==============================] - 0s 20ms/step - loss: 0.3245 - accuracy: 0.8679 - val_loss: 0.4481 - val_accuracy: 0.8200\n",
            "Epoch 8/30\n",
            "14/14 [==============================] - 0s 20ms/step - loss: 0.2700 - accuracy: 0.8936 - val_loss: 0.4111 - val_accuracy: 0.8500\n",
            "Epoch 9/30\n",
            "14/14 [==============================] - 0s 20ms/step - loss: 0.2369 - accuracy: 0.9194 - val_loss: 0.4266 - val_accuracy: 0.8300\n",
            "Epoch 10/30\n",
            "14/14 [==============================] - 0s 21ms/step - loss: 0.2194 - accuracy: 0.9194 - val_loss: 0.4518 - val_accuracy: 0.8400\n",
            "Epoch 11/30\n",
            "14/14 [==============================] - 0s 21ms/step - loss: 0.1985 - accuracy: 0.9171 - val_loss: 0.4343 - val_accuracy: 0.8500\n",
            "Epoch 12/30\n",
            "14/14 [==============================] - 0s 20ms/step - loss: 0.2029 - accuracy: 0.9239 - val_loss: 0.4072 - val_accuracy: 0.8700\n",
            "Epoch 13/30\n",
            "14/14 [==============================] - 0s 21ms/step - loss: 0.1514 - accuracy: 0.9563 - val_loss: 0.4364 - val_accuracy: 0.8400\n",
            "Epoch 14/30\n",
            "14/14 [==============================] - 0s 21ms/step - loss: 0.1532 - accuracy: 0.9462 - val_loss: 0.3661 - val_accuracy: 0.8600\n",
            "Epoch 15/30\n",
            "14/14 [==============================] - 0s 21ms/step - loss: 0.1062 - accuracy: 0.9675 - val_loss: 0.4317 - val_accuracy: 0.8600\n",
            "Epoch 16/30\n",
            "14/14 [==============================] - 0s 21ms/step - loss: 0.1122 - accuracy: 0.9664 - val_loss: 0.5029 - val_accuracy: 0.8200\n",
            "Epoch 17/30\n",
            "14/14 [==============================] - 0s 22ms/step - loss: 0.1010 - accuracy: 0.9675 - val_loss: 0.5235 - val_accuracy: 0.8300\n",
            "Epoch 18/30\n",
            "14/14 [==============================] - 0s 23ms/step - loss: 0.0911 - accuracy: 0.9675 - val_loss: 0.5246 - val_accuracy: 0.8100\n",
            "Epoch 19/30\n",
            "14/14 [==============================] - 0s 23ms/step - loss: 0.0768 - accuracy: 0.9731 - val_loss: 0.5938 - val_accuracy: 0.8500\n",
            "Epoch 20/30\n",
            "14/14 [==============================] - 0s 24ms/step - loss: 0.0866 - accuracy: 0.9709 - val_loss: 0.6170 - val_accuracy: 0.8300\n",
            "Epoch 21/30\n",
            "14/14 [==============================] - 0s 24ms/step - loss: 0.0775 - accuracy: 0.9754 - val_loss: 0.5830 - val_accuracy: 0.8400\n",
            "Epoch 22/30\n",
            "14/14 [==============================] - 0s 23ms/step - loss: 0.0727 - accuracy: 0.9832 - val_loss: 0.5637 - val_accuracy: 0.8400\n",
            "Epoch 23/30\n",
            "14/14 [==============================] - 0s 23ms/step - loss: 0.0692 - accuracy: 0.9776 - val_loss: 0.5539 - val_accuracy: 0.8200\n",
            "Epoch 24/30\n",
            "14/14 [==============================] - 0s 24ms/step - loss: 0.0569 - accuracy: 0.9843 - val_loss: 0.6505 - val_accuracy: 0.8100\n",
            "Epoch 24: early stopping\n",
            "11/11 [==============================] - 0s 3ms/step\n",
            "Epoch 1/30\n",
            "14/14 [==============================] - 4s 65ms/step - loss: 0.5999 - accuracy: 0.7380 - val_loss: 1.1504 - val_accuracy: 0.8600\n",
            "Epoch 2/30\n",
            "14/14 [==============================] - 0s 21ms/step - loss: 0.4427 - accuracy: 0.8074 - val_loss: 0.8441 - val_accuracy: 0.8300\n",
            "Epoch 3/30\n",
            "14/14 [==============================] - 0s 20ms/step - loss: 0.4019 - accuracy: 0.8331 - val_loss: 0.7295 - val_accuracy: 0.8200\n",
            "Epoch 4/30\n",
            "14/14 [==============================] - 0s 20ms/step - loss: 0.3854 - accuracy: 0.8376 - val_loss: 0.4302 - val_accuracy: 0.8800\n",
            "Epoch 5/30\n",
            "14/14 [==============================] - 0s 21ms/step - loss: 0.3466 - accuracy: 0.8499 - val_loss: 0.4479 - val_accuracy: 0.8600\n",
            "Epoch 6/30\n",
            "14/14 [==============================] - 0s 21ms/step - loss: 0.3262 - accuracy: 0.8611 - val_loss: 0.3469 - val_accuracy: 0.8700\n",
            "Epoch 7/30\n",
            "14/14 [==============================] - 0s 20ms/step - loss: 0.2960 - accuracy: 0.8791 - val_loss: 0.3701 - val_accuracy: 0.8300\n",
            "Epoch 8/30\n",
            "14/14 [==============================] - 0s 21ms/step - loss: 0.2596 - accuracy: 0.8970 - val_loss: 0.3585 - val_accuracy: 0.8500\n",
            "Epoch 9/30\n",
            "14/14 [==============================] - 0s 20ms/step - loss: 0.2562 - accuracy: 0.8959 - val_loss: 0.4245 - val_accuracy: 0.8200\n",
            "Epoch 10/30\n",
            "14/14 [==============================] - 0s 21ms/step - loss: 0.2455 - accuracy: 0.9037 - val_loss: 0.5272 - val_accuracy: 0.8100\n",
            "Epoch 11/30\n",
            "14/14 [==============================] - 0s 21ms/step - loss: 0.2404 - accuracy: 0.9115 - val_loss: 0.4117 - val_accuracy: 0.8300\n",
            "Epoch 12/30\n",
            "14/14 [==============================] - 0s 21ms/step - loss: 0.2238 - accuracy: 0.9138 - val_loss: 0.3784 - val_accuracy: 0.8400\n",
            "Epoch 13/30\n",
            "14/14 [==============================] - 0s 21ms/step - loss: 0.1842 - accuracy: 0.9283 - val_loss: 0.3852 - val_accuracy: 0.8300\n",
            "Epoch 14/30\n",
            "14/14 [==============================] - 0s 20ms/step - loss: 0.1730 - accuracy: 0.9406 - val_loss: 0.4427 - val_accuracy: 0.8300\n",
            "Epoch 15/30\n",
            "14/14 [==============================] - 0s 21ms/step - loss: 0.1528 - accuracy: 0.9485 - val_loss: 0.4093 - val_accuracy: 0.8300\n",
            "Epoch 16/30\n",
            "14/14 [==============================] - 0s 20ms/step - loss: 0.1366 - accuracy: 0.9474 - val_loss: 0.4987 - val_accuracy: 0.8400\n",
            "Epoch 16: early stopping\n",
            "11/11 [==============================] - 0s 4ms/step\n",
            "Epoch 1/30\n",
            "14/14 [==============================] - 3s 44ms/step - loss: 0.5470 - accuracy: 0.7368 - val_loss: 6.1311 - val_accuracy: 0.5500\n",
            "Epoch 2/30\n",
            "14/14 [==============================] - 0s 20ms/step - loss: 0.4710 - accuracy: 0.7895 - val_loss: 1.1623 - val_accuracy: 0.7600\n",
            "Epoch 3/30\n",
            "14/14 [==============================] - 0s 20ms/step - loss: 0.3927 - accuracy: 0.8264 - val_loss: 1.0153 - val_accuracy: 0.7700\n",
            "Epoch 4/30\n",
            "14/14 [==============================] - 0s 21ms/step - loss: 0.3595 - accuracy: 0.8466 - val_loss: 0.7848 - val_accuracy: 0.8200\n",
            "Epoch 5/30\n",
            "14/14 [==============================] - 0s 20ms/step - loss: 0.3347 - accuracy: 0.8567 - val_loss: 0.5869 - val_accuracy: 0.8700\n",
            "Epoch 6/30\n",
            "14/14 [==============================] - 0s 20ms/step - loss: 0.2953 - accuracy: 0.8891 - val_loss: 0.4633 - val_accuracy: 0.8500\n",
            "Epoch 7/30\n",
            "14/14 [==============================] - 0s 20ms/step - loss: 0.2700 - accuracy: 0.8925 - val_loss: 0.4284 - val_accuracy: 0.8300\n",
            "Epoch 8/30\n",
            "14/14 [==============================] - 0s 21ms/step - loss: 0.2690 - accuracy: 0.8959 - val_loss: 0.4495 - val_accuracy: 0.8200\n",
            "Epoch 9/30\n",
            "14/14 [==============================] - 0s 21ms/step - loss: 0.2413 - accuracy: 0.9160 - val_loss: 0.4761 - val_accuracy: 0.8300\n",
            "Epoch 10/30\n",
            "14/14 [==============================] - 0s 20ms/step - loss: 0.2146 - accuracy: 0.9250 - val_loss: 0.3962 - val_accuracy: 0.8300\n",
            "Epoch 11/30\n",
            "14/14 [==============================] - 0s 21ms/step - loss: 0.2158 - accuracy: 0.9216 - val_loss: 0.3753 - val_accuracy: 0.8200\n",
            "Epoch 12/30\n",
            "14/14 [==============================] - 0s 20ms/step - loss: 0.1952 - accuracy: 0.9250 - val_loss: 0.4589 - val_accuracy: 0.8300\n",
            "Epoch 13/30\n",
            "14/14 [==============================] - 0s 21ms/step - loss: 0.1584 - accuracy: 0.9440 - val_loss: 0.5574 - val_accuracy: 0.8300\n",
            "Epoch 14/30\n",
            "14/14 [==============================] - 0s 20ms/step - loss: 0.1565 - accuracy: 0.9351 - val_loss: 0.5605 - val_accuracy: 0.8200\n",
            "Epoch 15/30\n",
            "14/14 [==============================] - 0s 20ms/step - loss: 0.1517 - accuracy: 0.9462 - val_loss: 0.4203 - val_accuracy: 0.8600\n",
            "Epoch 16/30\n",
            "14/14 [==============================] - 0s 21ms/step - loss: 0.1147 - accuracy: 0.9608 - val_loss: 0.5289 - val_accuracy: 0.8200\n",
            "Epoch 17/30\n",
            "14/14 [==============================] - 0s 21ms/step - loss: 0.1220 - accuracy: 0.9574 - val_loss: 0.4103 - val_accuracy: 0.8400\n",
            "Epoch 18/30\n",
            "14/14 [==============================] - 0s 21ms/step - loss: 0.1033 - accuracy: 0.9675 - val_loss: 0.4394 - val_accuracy: 0.8100\n",
            "Epoch 19/30\n",
            "14/14 [==============================] - 0s 22ms/step - loss: 0.0876 - accuracy: 0.9653 - val_loss: 0.6184 - val_accuracy: 0.8500\n",
            "Epoch 20/30\n",
            "14/14 [==============================] - 0s 24ms/step - loss: 0.0700 - accuracy: 0.9832 - val_loss: 0.4735 - val_accuracy: 0.8600\n",
            "Epoch 21/30\n",
            "14/14 [==============================] - 0s 24ms/step - loss: 0.0530 - accuracy: 0.9866 - val_loss: 0.4797 - val_accuracy: 0.8500\n",
            "Epoch 21: early stopping\n",
            "11/11 [==============================] - 0s 4ms/step\n",
            "Epoch 1/30\n",
            "14/14 [==============================] - 4s 44ms/step - loss: 0.5712 - accuracy: 0.7111 - val_loss: 5.1712 - val_accuracy: 0.5800\n",
            "Epoch 2/30\n",
            "14/14 [==============================] - 0s 22ms/step - loss: 0.4495 - accuracy: 0.8096 - val_loss: 1.4764 - val_accuracy: 0.7100\n",
            "Epoch 3/30\n",
            "14/14 [==============================] - 0s 20ms/step - loss: 0.4043 - accuracy: 0.8264 - val_loss: 1.1145 - val_accuracy: 0.7200\n",
            "Epoch 4/30\n",
            "14/14 [==============================] - 0s 21ms/step - loss: 0.3978 - accuracy: 0.8376 - val_loss: 0.8450 - val_accuracy: 0.7600\n",
            "Epoch 5/30\n",
            "14/14 [==============================] - 0s 21ms/step - loss: 0.3766 - accuracy: 0.8331 - val_loss: 1.1770 - val_accuracy: 0.7300\n",
            "Epoch 6/30\n",
            "14/14 [==============================] - 0s 21ms/step - loss: 0.3609 - accuracy: 0.8320 - val_loss: 0.7965 - val_accuracy: 0.7800\n",
            "Epoch 7/30\n",
            "14/14 [==============================] - 0s 21ms/step - loss: 0.3160 - accuracy: 0.8757 - val_loss: 0.7003 - val_accuracy: 0.7300\n",
            "Epoch 8/30\n",
            "14/14 [==============================] - 0s 20ms/step - loss: 0.2841 - accuracy: 0.8880 - val_loss: 1.1054 - val_accuracy: 0.7500\n",
            "Epoch 9/30\n",
            "14/14 [==============================] - 0s 21ms/step - loss: 0.2573 - accuracy: 0.9059 - val_loss: 0.7776 - val_accuracy: 0.7500\n",
            "Epoch 10/30\n",
            "14/14 [==============================] - 0s 21ms/step - loss: 0.2372 - accuracy: 0.9115 - val_loss: 0.7164 - val_accuracy: 0.7700\n",
            "Epoch 11/30\n",
            "14/14 [==============================] - 0s 21ms/step - loss: 0.2170 - accuracy: 0.9160 - val_loss: 0.6660 - val_accuracy: 0.7900\n",
            "Epoch 12/30\n",
            "14/14 [==============================] - 0s 21ms/step - loss: 0.1911 - accuracy: 0.9317 - val_loss: 0.7431 - val_accuracy: 0.7600\n",
            "Epoch 13/30\n",
            "14/14 [==============================] - 0s 21ms/step - loss: 0.1720 - accuracy: 0.9451 - val_loss: 0.8869 - val_accuracy: 0.7800\n",
            "Epoch 14/30\n",
            "14/14 [==============================] - 0s 20ms/step - loss: 0.1653 - accuracy: 0.9362 - val_loss: 0.8581 - val_accuracy: 0.7700\n",
            "Epoch 15/30\n",
            "14/14 [==============================] - 0s 21ms/step - loss: 0.1693 - accuracy: 0.9384 - val_loss: 0.9840 - val_accuracy: 0.7800\n",
            "Epoch 16/30\n",
            "14/14 [==============================] - 0s 20ms/step - loss: 0.1284 - accuracy: 0.9608 - val_loss: 0.9119 - val_accuracy: 0.7900\n",
            "Epoch 17/30\n",
            "14/14 [==============================] - 0s 21ms/step - loss: 0.1126 - accuracy: 0.9586 - val_loss: 0.9693 - val_accuracy: 0.7600\n",
            "Epoch 18/30\n",
            "14/14 [==============================] - 0s 20ms/step - loss: 0.1032 - accuracy: 0.9574 - val_loss: 0.9805 - val_accuracy: 0.7700\n",
            "Epoch 19/30\n",
            "14/14 [==============================] - 0s 20ms/step - loss: 0.0948 - accuracy: 0.9664 - val_loss: 1.1350 - val_accuracy: 0.7400\n",
            "Epoch 20/30\n",
            "14/14 [==============================] - 0s 21ms/step - loss: 0.0809 - accuracy: 0.9709 - val_loss: 1.0970 - val_accuracy: 0.7200\n",
            "Epoch 21/30\n",
            "14/14 [==============================] - 0s 21ms/step - loss: 0.0773 - accuracy: 0.9720 - val_loss: 1.1188 - val_accuracy: 0.7300\n",
            "Epoch 21: early stopping\n",
            "11/11 [==============================] - 0s 4ms/step\n",
            "Epoch 1/30\n",
            "14/14 [==============================] - 4s 43ms/step - loss: 0.5340 - accuracy: 0.7559 - val_loss: 2.1100 - val_accuracy: 0.6600\n",
            "Epoch 2/30\n",
            "14/14 [==============================] - 0s 21ms/step - loss: 0.4593 - accuracy: 0.7940 - val_loss: 1.7893 - val_accuracy: 0.7100\n",
            "Epoch 3/30\n",
            "14/14 [==============================] - 0s 20ms/step - loss: 0.4118 - accuracy: 0.8298 - val_loss: 1.0726 - val_accuracy: 0.7600\n",
            "Epoch 4/30\n",
            "14/14 [==============================] - 0s 21ms/step - loss: 0.3505 - accuracy: 0.8600 - val_loss: 0.8869 - val_accuracy: 0.7700\n",
            "Epoch 5/30\n",
            "14/14 [==============================] - 0s 21ms/step - loss: 0.3470 - accuracy: 0.8679 - val_loss: 0.7630 - val_accuracy: 0.7500\n",
            "Epoch 6/30\n",
            "14/14 [==============================] - 0s 21ms/step - loss: 0.3014 - accuracy: 0.8757 - val_loss: 0.7755 - val_accuracy: 0.7300\n",
            "Epoch 7/30\n",
            "14/14 [==============================] - 0s 20ms/step - loss: 0.2880 - accuracy: 0.8903 - val_loss: 0.6931 - val_accuracy: 0.7300\n",
            "Epoch 8/30\n",
            "14/14 [==============================] - 0s 21ms/step - loss: 0.2972 - accuracy: 0.8891 - val_loss: 0.6769 - val_accuracy: 0.7300\n",
            "Epoch 9/30\n",
            "14/14 [==============================] - 0s 21ms/step - loss: 0.2798 - accuracy: 0.8869 - val_loss: 0.6065 - val_accuracy: 0.7600\n",
            "Epoch 10/30\n",
            "14/14 [==============================] - 0s 21ms/step - loss: 0.2163 - accuracy: 0.9194 - val_loss: 0.7123 - val_accuracy: 0.7500\n",
            "Epoch 11/30\n",
            "14/14 [==============================] - 0s 21ms/step - loss: 0.2210 - accuracy: 0.9160 - val_loss: 0.6812 - val_accuracy: 0.7200\n",
            "Epoch 12/30\n",
            "14/14 [==============================] - 0s 20ms/step - loss: 0.2335 - accuracy: 0.9003 - val_loss: 0.8315 - val_accuracy: 0.7400\n",
            "Epoch 13/30\n",
            "14/14 [==============================] - 0s 20ms/step - loss: 0.1998 - accuracy: 0.9317 - val_loss: 0.7565 - val_accuracy: 0.6800\n",
            "Epoch 14/30\n",
            "14/14 [==============================] - 0s 21ms/step - loss: 0.1716 - accuracy: 0.9373 - val_loss: 0.7770 - val_accuracy: 0.7100\n",
            "Epoch 15/30\n",
            "14/14 [==============================] - 0s 21ms/step - loss: 0.1424 - accuracy: 0.9530 - val_loss: 0.8781 - val_accuracy: 0.7200\n",
            "Epoch 16/30\n",
            "14/14 [==============================] - 0s 20ms/step - loss: 0.1317 - accuracy: 0.9597 - val_loss: 1.0131 - val_accuracy: 0.7100\n",
            "Epoch 17/30\n",
            "14/14 [==============================] - 0s 21ms/step - loss: 0.1416 - accuracy: 0.9451 - val_loss: 0.8962 - val_accuracy: 0.7300\n",
            "Epoch 18/30\n",
            "14/14 [==============================] - 0s 21ms/step - loss: 0.1028 - accuracy: 0.9642 - val_loss: 0.9086 - val_accuracy: 0.7100\n",
            "Epoch 19/30\n",
            "14/14 [==============================] - 0s 21ms/step - loss: 0.1113 - accuracy: 0.9653 - val_loss: 0.9063 - val_accuracy: 0.7400\n",
            "Epoch 19: early stopping\n",
            "11/11 [==============================] - 0s 3ms/step\n",
            "Epoch 1/30\n",
            "14/14 [==============================] - 3s 52ms/step - loss: 0.6390 - accuracy: 0.6596 - val_loss: 1.8972 - val_accuracy: 0.5900\n",
            "Epoch 2/30\n",
            "14/14 [==============================] - 0s 25ms/step - loss: 0.4954 - accuracy: 0.7794 - val_loss: 1.0877 - val_accuracy: 0.7400\n",
            "Epoch 3/30\n",
            "14/14 [==============================] - 0s 23ms/step - loss: 0.4114 - accuracy: 0.8208 - val_loss: 0.6345 - val_accuracy: 0.8200\n",
            "Epoch 4/30\n",
            "14/14 [==============================] - 0s 24ms/step - loss: 0.3733 - accuracy: 0.8376 - val_loss: 0.5470 - val_accuracy: 0.8300\n",
            "Epoch 5/30\n",
            "14/14 [==============================] - 0s 23ms/step - loss: 0.3422 - accuracy: 0.8544 - val_loss: 0.5252 - val_accuracy: 0.8400\n",
            "Epoch 6/30\n",
            "14/14 [==============================] - 0s 24ms/step - loss: 0.3204 - accuracy: 0.8623 - val_loss: 0.4571 - val_accuracy: 0.8400\n",
            "Epoch 7/30\n",
            "14/14 [==============================] - 0s 24ms/step - loss: 0.3032 - accuracy: 0.8791 - val_loss: 0.4516 - val_accuracy: 0.7900\n",
            "Epoch 8/30\n",
            "14/14 [==============================] - 0s 24ms/step - loss: 0.2797 - accuracy: 0.8779 - val_loss: 0.4919 - val_accuracy: 0.8200\n",
            "Epoch 9/30\n",
            "14/14 [==============================] - 0s 25ms/step - loss: 0.2587 - accuracy: 0.8791 - val_loss: 0.3876 - val_accuracy: 0.8400\n",
            "Epoch 10/30\n",
            "14/14 [==============================] - 0s 23ms/step - loss: 0.2432 - accuracy: 0.8959 - val_loss: 0.4214 - val_accuracy: 0.7900\n",
            "Epoch 11/30\n",
            "14/14 [==============================] - 0s 21ms/step - loss: 0.2165 - accuracy: 0.9171 - val_loss: 0.4282 - val_accuracy: 0.8500\n",
            "Epoch 12/30\n",
            "14/14 [==============================] - 0s 21ms/step - loss: 0.1957 - accuracy: 0.9205 - val_loss: 0.5282 - val_accuracy: 0.7700\n",
            "Epoch 13/30\n",
            "14/14 [==============================] - 0s 20ms/step - loss: 0.1792 - accuracy: 0.9261 - val_loss: 0.4405 - val_accuracy: 0.8500\n",
            "Epoch 14/30\n",
            "14/14 [==============================] - 0s 21ms/step - loss: 0.1680 - accuracy: 0.9406 - val_loss: 0.5148 - val_accuracy: 0.7700\n",
            "Epoch 15/30\n",
            "14/14 [==============================] - 0s 20ms/step - loss: 0.1409 - accuracy: 0.9373 - val_loss: 0.5802 - val_accuracy: 0.7900\n",
            "Epoch 16/30\n",
            "14/14 [==============================] - 0s 21ms/step - loss: 0.1403 - accuracy: 0.9462 - val_loss: 0.5487 - val_accuracy: 0.8100\n",
            "Epoch 17/30\n",
            "14/14 [==============================] - 0s 20ms/step - loss: 0.1021 - accuracy: 0.9597 - val_loss: 0.4990 - val_accuracy: 0.8600\n",
            "Epoch 18/30\n",
            "14/14 [==============================] - 0s 21ms/step - loss: 0.0842 - accuracy: 0.9709 - val_loss: 0.6214 - val_accuracy: 0.8000\n",
            "Epoch 19/30\n",
            "14/14 [==============================] - 0s 21ms/step - loss: 0.0734 - accuracy: 0.9754 - val_loss: 0.6559 - val_accuracy: 0.8300\n",
            "Epoch 19: early stopping\n",
            "11/11 [==============================] - 0s 3ms/step\n"
          ]
        }
      ]
    },
    {
      "cell_type": "code",
      "source": [
        "output_el_path = '/content/drive/MyDrive/Data/win_classifier_material'\n",
        "\n",
        "import os\n",
        "import pickle\n",
        "pickle_el_filename = 'Y_pred_cnn_zms_galaxy_nonegalaxy.pickle'\n",
        "pickle_el_filepath = os.path.join(output_el_path, pickle_el_filename)\n",
        "\n",
        "with open(pickle_el_filepath, 'wb') as pickle_file:\n",
        "    pickle.dump(Y_pred, pickle_file)\n"
      ],
      "metadata": {
        "id": "RkwEo9rTSXxr"
      },
      "execution_count": null,
      "outputs": []
    },
    {
      "cell_type": "code",
      "source": [
        "print(np.mean(accs), np.max(aucs))\n",
        "plt.plot(accs)\n"
      ],
      "metadata": {
        "colab": {
          "base_uri": "https://localhost:8080/",
          "height": 465
        },
        "id": "WKI7QOqsygCd",
        "outputId": "31f31903-5065-4c36-b8d2-17abb98a68d3"
      },
      "execution_count": null,
      "outputs": [
        {
          "output_type": "stream",
          "name": "stdout",
          "text": [
            "0.8033132530120481 0.8124242424242424\n"
          ]
        },
        {
          "output_type": "execute_result",
          "data": {
            "text/plain": [
              "[<matplotlib.lines.Line2D at 0x7fdb5cde2a10>]"
            ]
          },
          "metadata": {},
          "execution_count": 11
        },
        {
          "output_type": "display_data",
          "data": {
            "text/plain": [
              "<Figure size 640x480 with 1 Axes>"
            ],
            "image/png": "[encoded data removed]"
          },
          "metadata": {}
        }
      ]
    },
    {
      "cell_type": "code",
      "source": [
        "def metric(tp, fp, fn, tn):\n",
        "   acu = (tp + tn) / (tp + tn + fn + fp)\n",
        "   pre_p = tp / (tp + fp)\n",
        "   pre_n = tn / (tn + fn)\n",
        "   recal_p = tp / (tp + fn)\n",
        "   recal_n = tn / (tn + fp)\n",
        "   f1_p = (2 * (pre_p) * (recal_p)) / ((pre_p) + (recal_p))\n",
        "   f1_n = (2 * (pre_n) * (recal_n)) / ((pre_n) + (recal_n))\n",
        "   hss1 = (tp - fp) / (tp + fn)\n",
        "   hss2 = (2 * ((tp * tn) - (fn * fp))) / (((tp + fn) * (tn + fn)) + ((tp + fp) * (tn + fp)))\n",
        "   ch = ((tp + fp) * (tp + fn)) / (tp + fn + tn + fp)\n",
        "   gs = (tp - ch) / (tp + fp + fn - ch)\n",
        "   tss = (tp / (tp + fn)) - (fp / (fp + tn))\n",
        "   return acu, pre_p, pre_n, recal_p, recal_n, hss1, tss, f1_p, f1_n, hss2, gs"
      ],
      "metadata": {
        "id": "wNJ3VLNXqSZi"
      },
      "execution_count": null,
      "outputs": []
    },
    {
      "cell_type": "code",
      "source": [
        "acus=[]\n",
        "pre_ps=[]\n",
        "pre_ns=[]\n",
        "recal_ps=[]\n",
        "recal_ns=[]\n",
        "hss1s=[]\n",
        "tsss=[]\n",
        "f1_ps=[]\n",
        "f1_ns=[]\n",
        "hss2s=[]\n",
        "gss=[]\n",
        "\n",
        "# Calculate metrics for each set of TP, FP, FN, TN values\n",
        "performance_metrics = []\n",
        "for i in range(10):\n",
        "    acu, pre_p, pre_n, recal_p, recal_n, hss1, tss, f1_p, f1_n, hss2, gs = metric(TP_list[i], FP_list[i], FN_list[i], TN_list[i])\n",
        "    acus.append(acu)\n",
        "    pre_ps.append(pre_p)\n",
        "    pre_ns.append(pre_n)\n",
        "    recal_ps.append(recal_p)\n",
        "    recal_ns.append(recal_n)\n",
        "    hss1s.append(hss1)\n",
        "    tsss.append(tss)\n",
        "    f1_ps.append(f1_p)\n",
        "    f1_ns.append(f1_n)\n",
        "    hss2s.append(hss2)\n",
        "    gss.append(gs)\n",
        "\n",
        "acus_mean = np.mean(acus)\n",
        "acus_std = np.std(acus)\n",
        "\n",
        "pre_ps_mean = np.mean(pre_ps)\n",
        "pre_ps_std = np.std(pre_ps)\n",
        "\n",
        "pre_ns_mean = np.mean(pre_ns)\n",
        "pre_ns_std = np.std(pre_ns)\n",
        "\n",
        "recal_ps_mean = np.mean(recal_ps)\n",
        "recal_ps_std = np.std(recal_ps)\n",
        "\n",
        "recal_ns_mean = np.mean(recal_ns)\n",
        "recal_ns_std = np.std(recal_ns)\n",
        "\n",
        "hss1s_mean = np.mean(hss1s)\n",
        "hss1s_std = np.std(hss1s)\n",
        "\n",
        "tsss_mean = np.mean(tsss)\n",
        "tsss_std = np.std(tsss)\n",
        "\n",
        "f1_ps_mean = np.mean(f1_ps)\n",
        "f1_ps_std = np.std(f1_ps)\n",
        "\n",
        "f1_ns_mean = np.mean(f1_ns)\n",
        "f1_ns_std = np.std(f1_ns)\n",
        "\n",
        "hss2s_mean = np.mean(hss2s)\n",
        "hss2s_std = np.std(hss2s)\n",
        "\n",
        "gss_mean = np.mean(gss)\n",
        "gss_std = np.std(gss)\n",
        "\n",
        "auc_mean = np.mean(aucs)\n",
        "auc_std = np.std(aucs)"
      ],
      "metadata": {
        "id": "d2ZZ3qYaqVoz"
      },
      "execution_count": null,
      "outputs": []
    },
    {
      "cell_type": "code",
      "source": [
        "print(\"Mean and Standard Deviation Values:\")\n",
        "print(\"Accuracy - Mean:\", acus_mean, \"  Std:\", acus_std)\n",
        "print(\"Precision Positive - Mean:\", pre_ps_mean, \"  Std:\", pre_ps_std)\n",
        "print(\"Precision Negative - Mean:\", pre_ns_mean, \"  Std:\", pre_ns_std)\n",
        "print(\"F1 Positive - Mean:\", f1_ps_mean, \"  Std:\", f1_ps_std)\n",
        "print(\"F1 Negative - Mean:\", f1_ns_mean, \"  Std:\", f1_ns_std)\n",
        "print(\"Recall Positive - Mean:\", recal_ps_mean, \"  Std:\", recal_ps_std)\n",
        "print(\"Recall Negative - Mean:\", recal_ns_mean, \"  Std:\", recal_ns_std)\n",
        "print(\"HSS1 - Mean:\", hss1s_mean, \"  Std:\", hss1s_std)\n",
        "print(\"HSS2 - Mean:\", hss2s_mean, \"  Std:\", hss2s_std)\n",
        "print(\"GS - Mean:\", gss_mean, \"  Std:\", gss_std)\n",
        "print(\"TSS - Mean:\", tsss_mean, \"  Std:\", tsss_std)\n",
        "print(\"AUC - Mean:\", auc_mean, \"  Std:\", auc_std)"
      ],
      "metadata": {
        "colab": {
          "base_uri": "https://localhost:8080/"
        },
        "id": "2YU6_HhoqbJV",
        "outputId": "7238d25e-46b1-4d48-ebd2-ca376d121dce"
      },
      "execution_count": null,
      "outputs": [
        {
          "output_type": "stream",
          "name": "stdout",
          "text": [
            "Mean and Standard Deviation Values:\n",
            "Accuracy - Mean: 0.7966867469879518   Std: 0.019438798554533194\n",
            "Precision Positive - Mean: 0.780888432046009   Std: 0.05092928381753128\n",
            "Precision Negative - Mean: 0.8092537025928485   Std: 0.02840525519417016\n",
            "F1 Positive - Mean: 0.738011861842513   Std: 0.03161873544797666\n",
            "F1 Negative - Mean: 0.8330290528585191   Std: 0.017416677127944164\n",
            "Recall Positive - Mean: 0.7046436391563984   Std: 0.05745175013858132\n",
            "Recall Negative - Mean: 0.8606788483560097   Std: 0.04219808958436212\n",
            "HSS1 - Mean: 0.500938166414297   Std: 0.05899212776539112\n",
            "HSS2 - Mean: 0.5726953809324177   Std: 0.042321394380272714\n",
            "GS - Mean: 0.40247805371626566   Std: 0.04167891726496278\n",
            "TSS - Mean: 0.565322487512408   Std: 0.04339749956092341\n",
            "AUC - Mean: 0.7826612437562039   Std: 0.021698749780461685\n"
          ]
        }
      ]
    },
    {
      "cell_type": "code",
      "source": [
        "output_el_path = '/content/drive/MyDrive/Data/star_galaxy'\n",
        "import os\n",
        "import pickle\n",
        "\n",
        "pickle_el_filename = 'fprs_cnn_zms_galaxy_nonegalaxy.pickle'\n",
        "pickle_el_filepath = os.path.join(output_el_path, pickle_el_filename)\n",
        "\n",
        "with open(pickle_el_filepath, 'wb') as pickle_file:\n",
        "    pickle.dump(fprs, pickle_file)\n"
      ],
      "metadata": {
        "id": "UXaR5ua_kjui"
      },
      "execution_count": null,
      "outputs": []
    },
    {
      "cell_type": "code",
      "source": [
        "class_names = ['Galaxy', 'None-Galaxy']\n",
        "\n",
        "plt.figure(figsize=(8, 6))\n",
        "\n",
        "plt.plot(fprs[4], tprs[4], lw=1.5, label='ROC Curve (area = {:.3f})'.format(aucs[4]))\n",
        "\n",
        "plt.plot([0, 1], [0, 1], 'k--', lw=2)\n",
        "plt.xlim([0.0, 1.0])\n",
        "plt.ylim([0.0, 1.0])\n",
        "plt.xlabel('False Positive Rate')\n",
        "plt.ylabel('True Positive Rate')\n",
        "plt.title('ROC Curves Model II')\n",
        "plt.legend(loc=\"lower right\")\n",
        "plt.savefig(\"/content/drive/MyDrive/Data/star_galaxy/figs/roc_cnn_zms_1.eps\", format=\"eps\")\n",
        "plt.show()\n"
      ],
      "metadata": {
        "colab": {
          "base_uri": "https://localhost:8080/",
          "height": 601
        },
        "id": "HbJFLm-dDKEe",
        "outputId": "61837264-bbe6-410e-c05a-c5899260c3b5"
      },
      "execution_count": null,
      "outputs": [
        {
          "output_type": "stream",
          "name": "stderr",
          "text": [
            "WARNING:matplotlib.backends.backend_ps:The PostScript backend does not support transparency; partially transparent artists will be rendered opaque.\n"
          ]
        },
        {
          "output_type": "display_data",
          "data": {
            "text/plain": [
              "<Figure size 800x600 with 1 Axes>"
            ],
            "image/png": "[encoded data removed]"
          },
          "metadata": {}
        }
      ]
    },
    {
      "cell_type": "code",
      "source": [
        "import pickle\n",
        "Pkl_Filename = \"/content/drive/MyDrive/Data/star_galaxy/best_models/best_cnn_zms_galaxy_star_acc84_tss60.sav\"\n",
        "with open(Pkl_Filename, 'wb') as file:\n",
        "    pickle.dump(models[9], file)"
      ],
      "metadata": {
        "id": "f93QL7q8V-QH"
      },
      "execution_count": null,
      "outputs": []
    },
    {
      "cell_type": "markdown",
      "metadata": {
        "id": "sDQbf-lCp9wG"
      },
      "source": [
        "#### Define and fit the CNN model"
      ]
    },
    {
      "cell_type": "code",
      "source": [
        "batch_size = 32\n",
        "NUM_EPOCH = 10\n",
        "\n",
        "# input\n",
        "x = Input(shape=(903,1))\n",
        "\n",
        "#hidden layers\n",
        "c0 = Conv1D(8, kernel_size=3, strides=2, padding=\"same\")(x)\n",
        "b0 = BatchNormalization()(c0)\n",
        "m0 = MaxPooling1D(pool_size=2)(b0)\n",
        "d0 = Dropout(0.1)(m0)\n",
        "\n",
        "c1 = Conv1D(16, kernel_size=3, strides=2, padding=\"same\")(d0)\n",
        "b1 = BatchNormalization()(c1)\n",
        "m1 = MaxPooling1D(pool_size=2)(b1)\n",
        "d1 = Dropout(0.1)(m1)\n",
        "\n",
        "c2 = Conv1D(32, kernel_size=3, strides=2, padding=\"same\")(d1)\n",
        "b2 = BatchNormalization()(c2)\n",
        "m2 = MaxPooling1D(pool_size=2)(b2)\n",
        "d2 = Dropout(0.1)(m2)\n",
        "\n",
        "f = Flatten()(d2)\n",
        "\n",
        "de0 = Dense(64, activation='relu')(f)\n",
        "de1 = Dense(32, activation='relu')(de0)\n",
        "de2 = Dense(2, activation='softmax')(de1)\n",
        "\n",
        "model = Model(inputs=x, outputs=de2, name=\"cnn_zm_41_star_galaxy\")\n",
        "loss = tf.keras.losses.CategoricalCrossentropy(from_logits=True)\n",
        "optimizer = tf.keras.optimizers.Adam()\n",
        "model.compile(loss=loss, optimizer=optimizer, metrics=['accuracy'])\n",
        "model.summary()\n",
        "\n",
        "history = model.fit(X_train, y_train_encoded, batch_size=batch_size, epochs=NUM_EPOCH, callbacks=saver)"
      ],
      "metadata": {
        "colab": {
          "base_uri": "https://localhost:8080/"
        },
        "id": "WxDu94m9mLEh",
        "outputId": "0810de78-2148-451a-d383-a4c2c5bd37d4"
      },
      "execution_count": null,
      "outputs": [
        {
          "output_type": "stream",
          "name": "stdout",
          "text": [
            "Model: \"cnn_zm_41_star_galaxy\"\n",
            "_________________________________________________________________\n",
            " Layer (type)                Output Shape              Param #   \n",
            "=================================================================\n",
            " input_38 (InputLayer)       [(None, 903, 1)]          0         \n",
            "                                                                 \n",
            " conv1d_111 (Conv1D)         (None, 452, 8)            32        \n",
            "                                                                 \n",
            " batch_normalization_111 (B  (None, 452, 8)            32        \n",
            " atchNormalization)                                              \n",
            "                                                                 \n",
            " max_pooling1d_111 (MaxPool  (None, 226, 8)            0         \n",
            " ing1D)                                                          \n",
            "                                                                 \n",
            " dropout_111 (Dropout)       (None, 226, 8)            0         \n",
            "                                                                 \n",
            " conv1d_112 (Conv1D)         (None, 113, 16)           400       \n",
            "                                                                 \n",
            " batch_normalization_112 (B  (None, 113, 16)           64        \n",
            " atchNormalization)                                              \n",
            "                                                                 \n",
            " max_pooling1d_112 (MaxPool  (None, 56, 16)            0         \n",
            " ing1D)                                                          \n",
            "                                                                 \n",
            " dropout_112 (Dropout)       (None, 56, 16)            0         \n",
            "                                                                 \n",
            " conv1d_113 (Conv1D)         (None, 28, 32)            1568      \n",
            "                                                                 \n",
            " batch_normalization_113 (B  (None, 28, 32)            128       \n",
            " atchNormalization)                                              \n",
            "                                                                 \n",
            " max_pooling1d_113 (MaxPool  (None, 14, 32)            0         \n",
            " ing1D)                                                          \n",
            "                                                                 \n",
            " dropout_113 (Dropout)       (None, 14, 32)            0         \n",
            "                                                                 \n",
            " flatten_37 (Flatten)        (None, 448)               0         \n",
            "                                                                 \n",
            " dense_111 (Dense)           (None, 64)                28736     \n",
            "                                                                 \n",
            " dense_112 (Dense)           (None, 32)                2080      \n",
            "                                                                 \n",
            " dense_113 (Dense)           (None, 2)                 66        \n",
            "                                                                 \n",
            "=================================================================\n",
            "Total params: 33106 (129.32 KB)\n",
            "Trainable params: 32994 (128.88 KB)\n",
            "Non-trainable params: 112 (448.00 Byte)\n",
            "_________________________________________________________________\n",
            "Epoch 1/10\n",
            "39/40 [============================>.] - ETA: 0s - loss: 0.5631 - accuracy: 0.7260"
          ]
        },
        {
          "output_type": "stream",
          "name": "stderr",
          "text": [
            "WARNING:tensorflow:Can save best model only with train_loss available, skipping.\n"
          ]
        },
        {
          "output_type": "stream",
          "name": "stdout",
          "text": [
            "\b\b\b\b\b\b\b\b\b\b\b\b\b\b\b\b\b\b\b\b\b\b\b\b\b\b\b\b\b\b\b\b\b\b\b\b\b\b\b\b\b\b\b\b\b\b\b\b\b\b\b\b\b\b\b\b\b\b\b\b\b\b\b\b\b\b\b\b\b\b\b\b\b\b\b\b\b\b\b\b\b\b\r40/40 [==============================] - 4s 17ms/step - loss: 0.5627 - accuracy: 0.7266\n",
            "Epoch 2/10\n",
            "38/40 [===========================>..] - ETA: 0s - loss: 0.4709 - accuracy: 0.7837"
          ]
        },
        {
          "output_type": "stream",
          "name": "stderr",
          "text": [
            "WARNING:tensorflow:Can save best model only with train_loss available, skipping.\n"
          ]
        },
        {
          "output_type": "stream",
          "name": "stdout",
          "text": [
            "\b\b\b\b\b\b\b\b\b\b\b\b\b\b\b\b\b\b\b\b\b\b\b\b\b\b\b\b\b\b\b\b\b\b\b\b\b\b\b\b\b\b\b\b\b\b\b\b\b\b\b\b\b\b\b\b\b\b\b\b\b\b\b\b\b\b\b\b\b\b\b\b\b\b\b\b\b\b\b\b\b\b\r40/40 [==============================] - 1s 16ms/step - loss: 0.4734 - accuracy: 0.7838\n",
            "Epoch 3/10\n",
            "40/40 [==============================] - ETA: 0s - loss: 0.4534 - accuracy: 0.8060"
          ]
        },
        {
          "output_type": "stream",
          "name": "stderr",
          "text": [
            "WARNING:tensorflow:Can save best model only with train_loss available, skipping.\n"
          ]
        },
        {
          "output_type": "stream",
          "name": "stdout",
          "text": [
            "\b\b\b\b\b\b\b\b\b\b\b\b\b\b\b\b\b\b\b\b\b\b\b\b\b\b\b\b\b\b\b\b\b\b\b\b\b\b\b\b\b\b\b\b\b\b\b\b\b\b\b\b\b\b\b\b\b\b\b\b\b\b\b\b\b\b\b\b\b\b\b\b\b\b\b\b\b\b\b\b\b\b\r40/40 [==============================] - 1s 17ms/step - loss: 0.4534 - accuracy: 0.8060\n",
            "Epoch 4/10\n",
            "40/40 [==============================] - ETA: 0s - loss: 0.4109 - accuracy: 0.8307"
          ]
        },
        {
          "output_type": "stream",
          "name": "stderr",
          "text": [
            "WARNING:tensorflow:Can save best model only with train_loss available, skipping.\n"
          ]
        },
        {
          "output_type": "stream",
          "name": "stdout",
          "text": [
            "\b\b\b\b\b\b\b\b\b\b\b\b\b\b\b\b\b\b\b\b\b\b\b\b\b\b\b\b\b\b\b\b\b\b\b\b\b\b\b\b\b\b\b\b\b\b\b\b\b\b\b\b\b\b\b\b\b\b\b\b\b\b\b\b\b\b\b\b\b\b\b\b\b\b\b\b\b\b\b\b\b\b\r40/40 [==============================] - 1s 17ms/step - loss: 0.4109 - accuracy: 0.8307\n",
            "Epoch 5/10\n",
            "39/40 [============================>.] - ETA: 0s - loss: 0.4049 - accuracy: 0.8229"
          ]
        },
        {
          "output_type": "stream",
          "name": "stderr",
          "text": [
            "WARNING:tensorflow:Can save best model only with train_loss available, skipping.\n"
          ]
        },
        {
          "output_type": "stream",
          "name": "stdout",
          "text": [
            "\b\b\b\b\b\b\b\b\b\b\b\b\b\b\b\b\b\b\b\b\b\b\b\b\b\b\b\b\b\b\b\b\b\b\b\b\b\b\b\b\b\b\b\b\b\b\b\b\b\b\b\b\b\b\b\b\b\b\b\b\b\b\b\b\b\b\b\b\b\b\b\b\b\b\b\b\b\b\b\b\b\b\r40/40 [==============================] - 1s 16ms/step - loss: 0.4050 - accuracy: 0.8219\n",
            "Epoch 6/10\n",
            "38/40 [===========================>..] - ETA: 0s - loss: 0.4005 - accuracy: 0.8265"
          ]
        },
        {
          "output_type": "stream",
          "name": "stderr",
          "text": [
            "WARNING:tensorflow:Can save best model only with train_loss available, skipping.\n"
          ]
        },
        {
          "output_type": "stream",
          "name": "stdout",
          "text": [
            "\b\b\b\b\b\b\b\b\b\b\b\b\b\b\b\b\b\b\b\b\b\b\b\b\b\b\b\b\b\b\b\b\b\b\b\b\b\b\b\b\b\b\b\b\b\b\b\b\b\b\b\b\b\b\b\b\b\b\b\b\b\b\b\b\b\b\b\b\b\b\b\b\b\b\b\b\b\b\b\b\b\b\r40/40 [==============================] - 1s 17ms/step - loss: 0.4004 - accuracy: 0.8283\n",
            "Epoch 7/10\n",
            "38/40 [===========================>..] - ETA: 0s - loss: 0.3817 - accuracy: 0.8462"
          ]
        },
        {
          "output_type": "stream",
          "name": "stderr",
          "text": [
            "WARNING:tensorflow:Can save best model only with train_loss available, skipping.\n"
          ]
        },
        {
          "output_type": "stream",
          "name": "stdout",
          "text": [
            "\b\b\b\b\b\b\b\b\b\b\b\b\b\b\b\b\b\b\b\b\b\b\b\b\b\b\b\b\b\b\b\b\b\b\b\b\b\b\b\b\b\b\b\b\b\b\b\b\b\b\b\b\b\b\b\b\b\b\b\b\b\b\b\b\b\b\b\b\b\b\b\b\b\b\b\b\b\b\b\b\b\b\r40/40 [==============================] - 1s 17ms/step - loss: 0.3821 - accuracy: 0.8458\n",
            "Epoch 8/10\n",
            "40/40 [==============================] - ETA: 0s - loss: 0.3663 - accuracy: 0.8339"
          ]
        },
        {
          "output_type": "stream",
          "name": "stderr",
          "text": [
            "WARNING:tensorflow:Can save best model only with train_loss available, skipping.\n"
          ]
        },
        {
          "output_type": "stream",
          "name": "stdout",
          "text": [
            "\b\b\b\b\b\b\b\b\b\b\b\b\b\b\b\b\b\b\b\b\b\b\b\b\b\b\b\b\b\b\b\b\b\b\b\b\b\b\b\b\b\b\b\b\b\b\b\b\b\b\b\b\b\b\b\b\b\b\b\b\b\b\b\b\b\b\b\b\b\b\b\b\b\b\b\b\b\b\b\b\b\b\r40/40 [==============================] - 1s 17ms/step - loss: 0.3663 - accuracy: 0.8339\n",
            "Epoch 9/10\n",
            "38/40 [===========================>..] - ETA: 0s - loss: 0.3430 - accuracy: 0.8512"
          ]
        },
        {
          "output_type": "stream",
          "name": "stderr",
          "text": [
            "WARNING:tensorflow:Can save best model only with train_loss available, skipping.\n"
          ]
        },
        {
          "output_type": "stream",
          "name": "stdout",
          "text": [
            "\b\b\b\b\b\b\b\b\b\b\b\b\b\b\b\b\b\b\b\b\b\b\b\b\b\b\b\b\b\b\b\b\b\b\b\b\b\b\b\b\b\b\b\b\b\b\b\b\b\b\b\b\b\b\b\b\b\b\b\b\b\b\b\b\b\b\b\b\b\b\b\b\b\b\b\b\b\b\b\b\b\b\r40/40 [==============================] - 1s 25ms/step - loss: 0.3433 - accuracy: 0.8498\n",
            "Epoch 10/10\n",
            "39/40 [============================>.] - ETA: 0s - loss: 0.3357 - accuracy: 0.8606"
          ]
        },
        {
          "output_type": "stream",
          "name": "stderr",
          "text": [
            "WARNING:tensorflow:Can save best model only with train_loss available, skipping.\n"
          ]
        },
        {
          "output_type": "stream",
          "name": "stdout",
          "text": [
            "\b\b\b\b\b\b\b\b\b\b\b\b\b\b\b\b\b\b\b\b\b\b\b\b\b\b\b\b\b\b\b\b\b\b\b\b\b\b\b\b\b\b\b\b\b\b\b\b\b\b\b\b\b\b\b\b\b\b\b\b\b\b\b\b\b\b\b\b\b\b\b\b\b\b\b\b\b\b\b\b\b\b\r40/40 [==============================] - 1s 25ms/step - loss: 0.3380 - accuracy: 0.8593\n"
          ]
        }
      ]
    },
    {
      "cell_type": "code",
      "source": [
        "y_pred = model.predict(X_test)\n",
        "y_pred_labels = np.argmax(y_pred, axis=1)\n",
        "fpr, tpr, _ = metrics.roc_curve(y_test,  y_pred_labels)"
      ],
      "metadata": {
        "colab": {
          "base_uri": "https://localhost:8080/"
        },
        "id": "_-9EveK-rsty",
        "outputId": "dc774f30-0c1b-4afd-e2d8-843703670c9e"
      },
      "execution_count": null,
      "outputs": [
        {
          "output_type": "stream",
          "name": "stderr",
          "text": [
            "WARNING:tensorflow:5 out of the last 13 calls to <function Model.make_predict_function.<locals>.predict_function at 0x7f98f4c71510> triggered tf.function retracing. Tracing is expensive and the excessive number of tracings could be due to (1) creating @tf.function repeatedly in a loop, (2) passing tensors with different shapes, (3) passing Python objects instead of tensors. For (1), please define your @tf.function outside of the loop. For (2), @tf.function has reduce_retracing=True option that can avoid unnecessary retracing. For (3), please refer to https://www.tensorflow.org/guide/function#controlling_retracing and https://www.tensorflow.org/api_docs/python/tf/function for  more details.\n"
          ]
        },
        {
          "output_type": "stream",
          "name": "stdout",
          "text": [
            "3/3 [==============================] - 0s 7ms/step\n"
          ]
        }
      ]
    },
    {
      "cell_type": "code",
      "source": [
        "plt.plot(fpr,tpr)\n",
        "plt.show()"
      ],
      "metadata": {
        "colab": {
          "base_uri": "https://localhost:8080/",
          "height": 430
        },
        "id": "gdn9sBLUrype",
        "outputId": "b4ec54c9-f952-4c60-9983-d62eb1193bb9"
      },
      "execution_count": null,
      "outputs": [
        {
          "output_type": "display_data",
          "data": {
            "text/plain": [
              "<Figure size 640x480 with 1 Axes>"
            ],
            "image/png": "[encoded data removed]"
          },
          "metadata": {}
        }
      ]
    },
    {
      "cell_type": "code",
      "source": [
        "\n",
        "import matplotlib.pyplot as plt\n",
        "import json\n",
        "\n",
        "# Define the function to plot training history\n",
        "def plot_training(history):\n",
        "    plt.figure(figsize=(12, 4))\n",
        "\n",
        "    # Plot training loss\n",
        "    plt.subplot(1, 2, 1)\n",
        "    plt.plot(history.history['loss'], label='Training Loss')\n",
        "    plt.xlabel('Epoch')\n",
        "    plt.ylabel('Loss')\n",
        "    plt.title('Training Loss')\n",
        "    plt.legend()\n",
        "\n",
        "    # Plot training accuracy\n",
        "    plt.subplot(1, 2, 2)\n",
        "    plt.plot(history.history['accuracy'], label='Training Accuracy')\n",
        "    plt.xlabel('Epoch')\n",
        "    plt.ylabel('Accuracy')\n",
        "    plt.title('Training Accuracy')\n",
        "    plt.legend()\n",
        "\n",
        "    plt.tight_layout()\n",
        "    plt.show()\n",
        "\n",
        "\n",
        "plot_training(history)\n",
        "plt.show()"
      ],
      "metadata": {
        "colab": {
          "base_uri": "https://localhost:8080/",
          "height": 407
        },
        "id": "VPUWlrlHJXHr",
        "outputId": "1e956e4f-2920-44fb-9dc3-0c81df9d0fed"
      },
      "execution_count": null,
      "outputs": [
        {
          "output_type": "display_data",
          "data": {
            "text/plain": [
              "<Figure size 1200x400 with 2 Axes>"
            ],
            "image/png": "[encoded data removed]"
          },
          "metadata": {}
        }
      ]
    },
    {
      "cell_type": "code",
      "source": [
        "y_test_encoded = to_categorical(y_test, num_classes=2)\n",
        "con0 = confusion_matrix(np.argmax(y_test_encoded, axis=1), y_pred_labels)\n",
        "tn, fp, fn, tp=confusion_matrix(y_test, y_pred_labels).ravel()\n",
        "tss = (tp / (tp + fn)) - (fp / (fp + tn))\n",
        "acc=accuracy_score(y_test, y_pred_labels)\n",
        "print(con0,acc,tss)"
      ],
      "metadata": {
        "colab": {
          "base_uri": "https://localhost:8080/"
        },
        "id": "jw1MiKf-KSHi",
        "outputId": "096be83e-1659-4014-9450-f47da2e5bb55"
      },
      "execution_count": null,
      "outputs": [
        {
          "output_type": "stream",
          "name": "stdout",
          "text": [
            "[[22  6]\n",
            " [ 5 34]] 0.835820895522388 0.6575091575091575\n"
          ]
        }
      ]
    },
    {
      "cell_type": "code",
      "source": [
        "classification_metrics = classification_report(y_pred_labels, y_test)\n",
        "print(classification_metrics)"
      ],
      "metadata": {
        "colab": {
          "base_uri": "https://localhost:8080/"
        },
        "id": "-sX5nnPeXd8Q",
        "outputId": "79e447ca-3201-4fca-b8bf-ed7457725adf"
      },
      "execution_count": null,
      "outputs": [
        {
          "output_type": "stream",
          "name": "stdout",
          "text": [
            "              precision    recall  f1-score   support\n",
            "\n",
            "           0       0.46      0.73      0.57        41\n",
            "           1       0.94      0.84      0.89       219\n",
            "\n",
            "    accuracy                           0.82       260\n",
            "   macro avg       0.70      0.79      0.73       260\n",
            "weighted avg       0.87      0.82      0.84       260\n",
            "\n"
          ]
        }
      ]
    },
    {
      "cell_type": "code",
      "source": [
        "fp = []\n",
        "tp = []\n",
        "for j in range(10, 100, 15):\n",
        "    j /= 100  # Convert j back to its original floating-point value\n",
        "    batch_size = 32\n",
        "    NUM_EPOCH = 10\n",
        "\n",
        "\n",
        "    all_data = np.concatenate([zm1, zm2])\n",
        "    all_labels = np.concatenate([stars_labels, galaxies_labels])\n",
        "\n",
        "    X_train, X_test, y_train, y_test = train_test_split(all_data, all_labels, test_size=j)\n",
        "\n",
        "    X_test = X_test.reshape((X_test.shape[0], 903, 1))\n",
        "    y_train_encoded = to_categorical(y_train, num_classes=2)\n",
        "    y_test_encoded = to_categorical(y_test, num_classes=2)\n",
        "\n",
        "    history = model.fit(X_train, y_train_encoded, batch_size=batch_size, epochs=NUM_EPOCH, callbacks=[lr_scheduler])\n",
        "    y_pred = model.predict(X_test)\n",
        "\n",
        "    y_pred_labels = np.argmax(y_pred, axis=1)\n",
        "\n",
        "    fpr, tpr, _ = metrics.roc_curve(y_test,  y_pred_labels)\n",
        "    fp.append(fpr)\n",
        "    tp.append(tpr)"
      ],
      "metadata": {
        "colab": {
          "base_uri": "https://localhost:8080/"
        },
        "id": "ANe94XJtdhmd",
        "outputId": "10232129-0371-4dd2-e104-185daf462eb2"
      },
      "execution_count": null,
      "outputs": [
        {
          "output_type": "stream",
          "name": "stdout",
          "text": [
            "Epoch 1/10\n",
            "30/30 [==============================] - 1s 20ms/step - loss: 7.0796 - accuracy: 0.9947 - lr: 0.0010\n",
            "Epoch 2/10\n",
            "30/30 [==============================] - 1s 18ms/step - loss: 13.7992 - accuracy: 0.9925 - lr: 0.0010\n",
            "Epoch 3/10\n",
            "30/30 [==============================] - 1s 17ms/step - loss: 99.0619 - accuracy: 0.9423 - lr: 0.0010\n",
            "Epoch 4/10\n",
            "30/30 [==============================] - 1s 17ms/step - loss: 35.1299 - accuracy: 0.9722 - lr: 0.0010\n",
            "Epoch 5/10\n",
            "30/30 [==============================] - 1s 17ms/step - loss: 44.0822 - accuracy: 0.9551 - lr: 0.0010\n",
            "Epoch 6/10\n",
            "30/30 [==============================] - 1s 30ms/step - loss: 12.0765 - accuracy: 0.9872 - lr: 0.0010\n",
            "Epoch 7/10\n",
            "30/30 [==============================] - 1s 29ms/step - loss: 1.0611 - accuracy: 0.9968 - lr: 1.0000e-04\n",
            "Epoch 8/10\n",
            "30/30 [==============================] - 1s 30ms/step - loss: 0.1592 - accuracy: 0.9989 - lr: 1.0000e-04\n",
            "Epoch 9/10\n",
            "30/30 [==============================] - 1s 30ms/step - loss: 0.0000e+00 - accuracy: 1.0000 - lr: 1.0000e-04\n",
            "Epoch 10/10\n",
            "30/30 [==============================] - 1s 24ms/step - loss: 0.0000e+00 - accuracy: 1.0000 - lr: 1.0000e-04\n",
            "4/4 [==============================] - 0s 6ms/step\n",
            "Epoch 1/10\n",
            "25/25 [==============================] - 0s 17ms/step - loss: 10.0934 - accuracy: 0.9936 - lr: 0.0010\n",
            "Epoch 2/10\n",
            "25/25 [==============================] - 0s 18ms/step - loss: 9.3727 - accuracy: 0.9897 - lr: 0.0010\n",
            "Epoch 3/10\n",
            "25/25 [==============================] - 0s 17ms/step - loss: 7.9930 - accuracy: 0.9923 - lr: 0.0010\n",
            "Epoch 4/10\n",
            "25/25 [==============================] - 0s 18ms/step - loss: 2.1851 - accuracy: 0.9962 - lr: 0.0010\n",
            "Epoch 5/10\n",
            "25/25 [==============================] - 0s 16ms/step - loss: 0.0000e+00 - accuracy: 1.0000 - lr: 0.0010\n",
            "Epoch 6/10\n",
            "25/25 [==============================] - 0s 17ms/step - loss: 1.2644 - accuracy: 0.9962 - lr: 0.0010\n",
            "Epoch 7/10\n",
            "25/25 [==============================] - 0s 17ms/step - loss: 0.0000e+00 - accuracy: 1.0000 - lr: 1.0000e-04\n",
            "Epoch 8/10\n",
            "25/25 [==============================] - 0s 16ms/step - loss: 0.2401 - accuracy: 0.9987 - lr: 1.0000e-04\n",
            "Epoch 9/10\n",
            "25/25 [==============================] - 0s 18ms/step - loss: 0.0000e+00 - accuracy: 1.0000 - lr: 1.0000e-04\n",
            "Epoch 10/10\n",
            "25/25 [==============================] - 0s 16ms/step - loss: 0.0000e+00 - accuracy: 1.0000 - lr: 1.0000e-04\n",
            "9/9 [==============================] - 0s 5ms/step\n",
            "Epoch 1/10\n",
            "20/20 [==============================] - 0s 17ms/step - loss: 7.6201 - accuracy: 0.9968 - lr: 0.0010\n",
            "Epoch 2/10\n",
            "20/20 [==============================] - 0s 16ms/step - loss: 0.1163 - accuracy: 0.9968 - lr: 0.0010\n",
            "Epoch 3/10\n",
            "20/20 [==============================] - 0s 17ms/step - loss: 1.1411 - accuracy: 0.9968 - lr: 0.0010\n",
            "Epoch 4/10\n",
            "20/20 [==============================] - 0s 18ms/step - loss: 0.0000e+00 - accuracy: 1.0000 - lr: 0.0010\n",
            "Epoch 5/10\n",
            "20/20 [==============================] - 0s 17ms/step - loss: 0.0000e+00 - accuracy: 1.0000 - lr: 0.0010\n",
            "Epoch 6/10\n",
            "20/20 [==============================] - 1s 27ms/step - loss: 0.0000e+00 - accuracy: 1.0000 - lr: 0.0010\n",
            "Epoch 7/10\n",
            "20/20 [==============================] - 1s 29ms/step - loss: 0.0000e+00 - accuracy: 1.0000 - lr: 1.0000e-04\n",
            "Epoch 8/10\n",
            "20/20 [==============================] - 1s 28ms/step - loss: 0.0000e+00 - accuracy: 1.0000 - lr: 1.0000e-04\n",
            "Epoch 9/10\n",
            "20/20 [==============================] - 1s 30ms/step - loss: 0.0000e+00 - accuracy: 1.0000 - lr: 1.0000e-04\n",
            "Epoch 10/10\n",
            "20/20 [==============================] - 1s 30ms/step - loss: 0.0000e+00 - accuracy: 1.0000 - lr: 1.0000e-04\n",
            "13/13 [==============================] - 0s 11ms/step\n",
            "Epoch 1/10\n",
            "15/15 [==============================] - 0s 18ms/step - loss: 0.1759 - accuracy: 0.9979 - lr: 0.0010\n",
            "Epoch 2/10\n",
            "15/15 [==============================] - 0s 17ms/step - loss: 4.5388 - accuracy: 0.9936 - lr: 0.0010\n",
            "Epoch 3/10\n",
            "15/15 [==============================] - 0s 18ms/step - loss: 4.6299 - accuracy: 0.9936 - lr: 0.0010\n",
            "Epoch 4/10\n",
            "15/15 [==============================] - 0s 18ms/step - loss: 0.0026 - accuracy: 0.9979 - lr: 0.0010\n",
            "Epoch 5/10\n",
            "15/15 [==============================] - 0s 17ms/step - loss: 0.0000e+00 - accuracy: 1.0000 - lr: 0.0010\n",
            "Epoch 6/10\n",
            "15/15 [==============================] - 0s 17ms/step - loss: 0.0000e+00 - accuracy: 1.0000 - lr: 0.0010\n",
            "Epoch 7/10\n",
            "15/15 [==============================] - 0s 17ms/step - loss: 0.0000e+00 - accuracy: 1.0000 - lr: 1.0000e-04\n",
            "Epoch 8/10\n",
            "15/15 [==============================] - 0s 17ms/step - loss: 0.0000e+00 - accuracy: 1.0000 - lr: 1.0000e-04\n",
            "Epoch 9/10\n",
            "15/15 [==============================] - 0s 17ms/step - loss: 0.0000e+00 - accuracy: 1.0000 - lr: 1.0000e-04\n",
            "Epoch 10/10\n",
            "15/15 [==============================] - 0s 17ms/step - loss: 0.0000e+00 - accuracy: 1.0000 - lr: 1.0000e-04\n",
            "18/18 [==============================] - 0s 8ms/step\n",
            "Epoch 1/10\n",
            "10/10 [==============================] - 0s 20ms/step - loss: 1.3996 - accuracy: 0.9968 - lr: 0.0010\n",
            "Epoch 2/10\n",
            "10/10 [==============================] - 0s 20ms/step - loss: 2.6746e-09 - accuracy: 1.0000 - lr: 0.0010\n",
            "Epoch 3/10\n",
            "10/10 [==============================] - 0s 21ms/step - loss: 0.6932 - accuracy: 0.9968 - lr: 0.0010\n",
            "Epoch 4/10\n",
            "10/10 [==============================] - 0s 20ms/step - loss: 0.0000e+00 - accuracy: 1.0000 - lr: 0.0010\n",
            "Epoch 5/10\n",
            "10/10 [==============================] - 0s 20ms/step - loss: 0.0000e+00 - accuracy: 1.0000 - lr: 0.0010\n",
            "Epoch 6/10\n",
            "10/10 [==============================] - 0s 21ms/step - loss: 0.0000e+00 - accuracy: 1.0000 - lr: 0.0010\n",
            "Epoch 7/10\n",
            "10/10 [==============================] - 0s 17ms/step - loss: 0.0000e+00 - accuracy: 1.0000 - lr: 1.0000e-04\n",
            "Epoch 8/10\n",
            "10/10 [==============================] - 0s 17ms/step - loss: 0.0000e+00 - accuracy: 1.0000 - lr: 1.0000e-04\n",
            "Epoch 9/10\n",
            "10/10 [==============================] - 0s 19ms/step - loss: 0.0000e+00 - accuracy: 1.0000 - lr: 1.0000e-04\n",
            "Epoch 10/10\n",
            "10/10 [==============================] - 0s 17ms/step - loss: 0.0000e+00 - accuracy: 1.0000 - lr: 1.0000e-04\n",
            "23/23 [==============================] - 0s 8ms/step\n",
            "Epoch 1/10\n",
            "5/5 [==============================] - 0s 22ms/step - loss: 0.0000e+00 - accuracy: 1.0000 - lr: 0.0010\n",
            "Epoch 2/10\n",
            "5/5 [==============================] - 0s 22ms/step - loss: 0.0000e+00 - accuracy: 1.0000 - lr: 0.0010\n",
            "Epoch 3/10\n",
            "5/5 [==============================] - 0s 19ms/step - loss: 0.0000e+00 - accuracy: 1.0000 - lr: 0.0010\n",
            "Epoch 4/10\n",
            "5/5 [==============================] - 0s 18ms/step - loss: 0.0000e+00 - accuracy: 1.0000 - lr: 0.0010\n",
            "Epoch 5/10\n",
            "5/5 [==============================] - 0s 18ms/step - loss: 0.0000e+00 - accuracy: 1.0000 - lr: 0.0010\n",
            "Epoch 6/10\n",
            "5/5 [==============================] - 0s 17ms/step - loss: 0.0000e+00 - accuracy: 1.0000 - lr: 0.0010\n",
            "Epoch 7/10\n",
            "5/5 [==============================] - 0s 22ms/step - loss: 0.0000e+00 - accuracy: 1.0000 - lr: 1.0000e-04\n",
            "Epoch 8/10\n",
            "5/5 [==============================] - 0s 19ms/step - loss: 0.0000e+00 - accuracy: 1.0000 - lr: 1.0000e-04\n",
            "Epoch 9/10\n",
            "5/5 [==============================] - 0s 17ms/step - loss: 0.0000e+00 - accuracy: 1.0000 - lr: 1.0000e-04\n",
            "Epoch 10/10\n",
            "5/5 [==============================] - 0s 17ms/step - loss: 0.0000e+00 - accuracy: 1.0000 - lr: 1.0000e-04\n",
            "28/28 [==============================] - 0s 6ms/step\n"
          ]
        }
      ]
    },
    {
      "cell_type": "code",
      "source": [
        "for i in range(len(fp)):\n",
        "    plt.plot(fp[i], tp[i], label=f'test_size {i+1}')\n",
        "\n",
        "plt.title('CNN + ZMs')\n",
        "plt.ylabel('True Positive Rate')\n",
        "plt.xlabel('False Positive Rate')\n",
        "plt.legend()\n",
        "plt.show()\n"
      ],
      "metadata": {
        "colab": {
          "base_uri": "https://localhost:8080/",
          "height": 472
        },
        "id": "fBEpTf9seNRk",
        "outputId": "cc47b31f-72ed-42ff-8b31-126342bbc169"
      },
      "execution_count": null,
      "outputs": [
        {
          "output_type": "display_data",
          "data": {
            "text/plain": [
              "<Figure size 640x480 with 1 Axes>"
            ],
            "image/png": "[encoded data removed]"
          },
          "metadata": {}
        }
      ]
    },
    {
      "cell_type": "code",
      "source": [],
      "metadata": {
        "id": "XOdkzVUHh-sp"
      },
      "execution_count": null,
      "outputs": []
    },
    {
      "cell_type": "code",
      "source": [],
      "metadata": {
        "id": "3O35GR6Gh-pn"
      },
      "execution_count": null,
      "outputs": []
    },
    {
      "cell_type": "code",
      "source": [],
      "metadata": {
        "id": "gC6QqF0jh-lL"
      },
      "execution_count": null,
      "outputs": []
    },
    {
      "cell_type": "code",
      "source": [
        "batch_size = 32\n",
        "NUM_EPOCH = 10\n",
        "all_data = np.concatenate([zm1, zm2])\n",
        "all_labels = np.concatenate([stars_labels, galaxies_labels])\n",
        "X_train, X_test, y_train, y_test = train_test_split(all_data, all_labels, test_size=0.15)\n",
        "# X_train = X_train.reshape((X_train.shape[0], 903, 1))\n",
        "X_test = X_test.reshape((X_test.shape[0], 903, 1))\n",
        "y_train_encoded = to_categorical(y_train, num_classes=2)\n",
        "y_test_encoded = to_categorical(y_test, num_classes=2)\n",
        "history = model.fit(X_train, y_train_encoded, batch_size=batch_size, epochs=NUM_EPOCH, callbacks=[lr_scheduler])\n",
        "y_pred = model.predict(X_test)\n",
        "y_pred_labels = np.argmax(y_pred, axis=1)"
      ],
      "metadata": {
        "colab": {
          "base_uri": "https://localhost:8080/"
        },
        "id": "ddOXWM3vy0dB",
        "outputId": "541795db-f854-4087-ac09-8285e6546401"
      },
      "execution_count": null,
      "outputs": [
        {
          "output_type": "stream",
          "name": "stdout",
          "text": [
            "Epoch 1/10\n",
            "28/28 [==============================] - 1s 22ms/step - loss: 46.6529 - accuracy: 0.9615 - lr: 0.0010\n",
            "Epoch 2/10\n",
            "28/28 [==============================] - 1s 21ms/step - loss: 38.9657 - accuracy: 0.9638 - lr: 0.0010\n",
            "Epoch 3/10\n",
            "28/28 [==============================] - 0s 18ms/step - loss: 45.8518 - accuracy: 0.9570 - lr: 0.0010\n",
            "Epoch 4/10\n",
            "28/28 [==============================] - 1s 21ms/step - loss: 33.3786 - accuracy: 0.9695 - lr: 0.0010\n",
            "Epoch 5/10\n",
            "28/28 [==============================] - 0s 16ms/step - loss: 25.9462 - accuracy: 0.9717 - lr: 0.0010\n",
            "Epoch 6/10\n",
            "28/28 [==============================] - 0s 16ms/step - loss: 25.2460 - accuracy: 0.9808 - lr: 0.0010\n",
            "Epoch 7/10\n",
            "28/28 [==============================] - 0s 12ms/step - loss: 8.8486 - accuracy: 0.9910 - lr: 1.0000e-04\n",
            "Epoch 8/10\n",
            "28/28 [==============================] - 0s 10ms/step - loss: 1.6097 - accuracy: 0.9955 - lr: 1.0000e-04\n",
            "Epoch 9/10\n",
            "28/28 [==============================] - 0s 10ms/step - loss: 0.3198 - accuracy: 0.9989 - lr: 1.0000e-04\n",
            "Epoch 10/10\n",
            "28/28 [==============================] - 0s 10ms/step - loss: 0.0000e+00 - accuracy: 1.0000 - lr: 1.0000e-04\n",
            "5/5 [==============================] - 0s 3ms/step\n"
          ]
        }
      ]
    },
    {
      "cell_type": "code",
      "source": [
        "len(X_train)"
      ],
      "metadata": {
        "colab": {
          "base_uri": "https://localhost:8080/"
        },
        "id": "tX6dic5SCP_5",
        "outputId": "f8359258-9356-40a0-b690-bf6ece454c20"
      },
      "execution_count": null,
      "outputs": [
        {
          "output_type": "execute_result",
          "data": {
            "text/plain": [
              "884"
            ]
          },
          "metadata": {},
          "execution_count": 32
        }
      ]
    },
    {
      "cell_type": "code",
      "source": [
        "con0 = confusion_matrix(np.argmax(y_test_encoded, axis=1), y_pred_labels)\n",
        "tp = con0[0,0]\n",
        "fn = con0[0,1]\n",
        "fp = con0[1,0]\n",
        "tn = con0[1,1]\n",
        "tss = (tp/(tp+fn))-(fp/(fp+tn))\n",
        "print(tss)"
      ],
      "metadata": {
        "colab": {
          "base_uri": "https://localhost:8080/"
        },
        "id": "XvmBI4x47TsQ",
        "outputId": "b698c6b1-9f80-40b0-eb7e-92f140b543b1"
      },
      "execution_count": null,
      "outputs": [
        {
          "output_type": "stream",
          "name": "stdout",
          "text": [
            "0.8804280716196747\n"
          ]
        }
      ]
    },
    {
      "cell_type": "code",
      "source": [
        "classification_metrics = classification_report(y_pred_labels, y_test)\n",
        "print(classification_metrics)"
      ],
      "metadata": {
        "colab": {
          "base_uri": "https://localhost:8080/"
        },
        "id": "lkdcaQzR-xt4",
        "outputId": "a910e80e-a121-4719-db82-e5e45c911e92"
      },
      "execution_count": null,
      "outputs": [
        {
          "output_type": "stream",
          "name": "stdout",
          "text": [
            "5/5 [==============================] - 0s 5ms/step\n",
            "              precision    recall  f1-score   support\n",
            "\n",
            "           0       0.91      0.93      0.92        42\n",
            "           1       0.97      0.96      0.97       114\n",
            "\n",
            "    accuracy                           0.96       156\n",
            "   macro avg       0.94      0.95      0.94       156\n",
            "weighted avg       0.96      0.96      0.96       156\n",
            "\n"
          ]
        }
      ]
    },
    {
      "cell_type": "code",
      "source": [
        "fpr, tpr, _ = metrics.roc_curve(y_test,  y_pred_labels)\n",
        "#create ROC curve\n",
        "plt.plot(fpr,tpr)\n",
        "plt.ylabel('True Positive Rate')\n",
        "plt.xlabel('False Positive Rate')\n",
        "plt.show()"
      ],
      "metadata": {
        "colab": {
          "base_uri": "https://localhost:8080/",
          "height": 449
        },
        "id": "-SHZAr8X-2xH",
        "outputId": "18db56ae-4217-46d0-c021-3695519e27f8"
      },
      "execution_count": null,
      "outputs": [
        {
          "output_type": "display_data",
          "data": {
            "text/plain": [
              "<Figure size 640x480 with 1 Axes>"
            ],
            "image/png": "[encoded data removed]"
          },
          "metadata": {}
        }
      ]
    },
    {
      "cell_type": "code",
      "source": [
        "auc = metrics.roc_auc_score(y_test, y_pred_labels)\n",
        "print(auc)"
      ],
      "metadata": {
        "colab": {
          "base_uri": "https://localhost:8080/"
        },
        "id": "WQb1IQst_Amt",
        "outputId": "780fbc60-bb81-4bc1-cb5e-efde8a2159cc"
      },
      "execution_count": null,
      "outputs": [
        {
          "output_type": "stream",
          "name": "stdout",
          "text": [
            "0.8883544303797469\n"
          ]
        }
      ]
    },
    {
      "cell_type": "code",
      "source": [
        "print(y_pred_labels - y_test)"
      ],
      "metadata": {
        "colab": {
          "base_uri": "https://localhost:8080/"
        },
        "id": "k5yXmVtA5BPh",
        "outputId": "19b986f9-3413-426b-be05-e1468da02a80"
      },
      "execution_count": null,
      "outputs": [
        {
          "output_type": "stream",
          "name": "stdout",
          "text": [
            "[-1.  0.  0.  0.  1.  0. -1.  0.  0. -1.  0.  1.  0.  0.  0.  0.  0.  0.\n",
            "  0.  0.  0.  0.  0.  0.  0. -1. -1.  0.  0.  0.  0.  0.  0.  0.  0. -1.\n",
            "  0.  1.  0.  0.  0.  0. -1.  0.  0.  0.  0. -1.  0.  1.  0.  1.  0.  0.\n",
            "  0.  0.  1.  0.  0.  0.  0.  0.  1.  0.  0.  0.  0.  1. -1.  0.  0.  0.\n",
            "  0.  0.  0.  0.  0.  0.  0.  0.  0.  0.  0.  0. -1.  1.  0.  0.  0. -1.\n",
            "  0. -1.  0.  0. -1.  0.  1.  0.  0.  0.  0.  1.  0.  0.  0.  0.  0.  0.\n",
            "  0.  0.  0.  0.  0.  0.  0.  0.  0.  0.  0.  0.  0.  0.  0.  0.  0.  0.\n",
            "  1.  0.  0.  0.  0.  0.  0.  0.  0. -1.  1.  0.  0.  0. -1. -1.  0.  0.\n",
            " -1.  0.  0.  0.  0.  0.  0.  0.  0. -1.  0. -1.  0.  0.  0.  0.  0. -1.\n",
            " -1.  1.  1.  0.  0.  0.  0.  0. -1.  0.  0.  0.  0.  0.  0. -1.  0.  0.\n",
            "  1.  0.  0.  0. -1.  0. -1.  0.  0.  0.  1.  0.  0.  0.  1.  0.  0.  0.\n",
            "  1.  0.  0.  0.  0.  0.  1.  0.  0.  0. -1.  0.  0.  1.  0.  0.  0.  0.\n",
            " -1.  0.  0.  0.  0. -1.  0. -1.  0. -1.  0.  0. -1.  0.  0.  0.  0.  0.\n",
            "  0. -1.  1.  0.  0.  0.  0.  0. -1. -1. -1.  0.  0.  0.  0. -1. -1.  0.\n",
            " -1.  0.  0.  0.  0. -1.  0. -1.  0.  1.  0.  1. -1.  0.  0.  1.  0.  1.\n",
            "  0.  0.  0.  0.  0. -1.  0.  1.  1.  0.  0. -1.  0.  0.  0.  0. -1.  0.\n",
            "  0.  1. -1.  0. -1.  0.  0.  0.  0.  0.  0.  0.  0.  0.  0.  0.  0. -1.\n",
            "  0.  0.  0.  0.  0.  0.]\n"
          ]
        }
      ]
    },
    {
      "cell_type": "code",
      "execution_count": null,
      "metadata": {
        "colab": {
          "base_uri": "https://localhost:8080/"
        },
        "id": "BG-BNlF5p9wI",
        "outputId": "d76b3f36-4671-40a6-dbb1-738f454cfa65"
      },
      "outputs": [
        {
          "output_type": "stream",
          "name": "stdout",
          "text": [
            "Epoch 1/10\n",
            "30/30 [==============================] - 0s 10ms/step - loss: 0.0000e+00 - accuracy: 1.0000 - lr: 0.0010\n",
            "Epoch 2/10\n",
            "30/30 [==============================] - 0s 9ms/step - loss: 0.0000e+00 - accuracy: 1.0000 - lr: 0.0010\n",
            "Epoch 3/10\n",
            "30/30 [==============================] - 0s 9ms/step - loss: 0.0000e+00 - accuracy: 1.0000 - lr: 0.0010\n",
            "Epoch 4/10\n",
            "30/30 [==============================] - 0s 10ms/step - loss: 0.0000e+00 - accuracy: 1.0000 - lr: 0.0010\n",
            "Epoch 5/10\n",
            "30/30 [==============================] - 0s 10ms/step - loss: 0.0000e+00 - accuracy: 1.0000 - lr: 0.0010\n",
            "Epoch 6/10\n",
            "30/30 [==============================] - 0s 9ms/step - loss: 0.0000e+00 - accuracy: 1.0000 - lr: 0.0010\n",
            "Epoch 7/10\n",
            "30/30 [==============================] - 0s 10ms/step - loss: 0.0000e+00 - accuracy: 1.0000 - lr: 1.0000e-04\n",
            "Epoch 8/10\n",
            "30/30 [==============================] - 0s 10ms/step - loss: 0.0000e+00 - accuracy: 1.0000 - lr: 1.0000e-04\n",
            "Epoch 9/10\n",
            "30/30 [==============================] - 0s 9ms/step - loss: 0.0000e+00 - accuracy: 1.0000 - lr: 1.0000e-04\n",
            "Epoch 10/10\n",
            "30/30 [==============================] - 0s 9ms/step - loss: 0.0000e+00 - accuracy: 1.0000 - lr: 1.0000e-04\n",
            "4/4 [==============================] - 0s 4ms/step\n",
            "Epoch 1/10\n",
            "25/25 [==============================] - 0s 10ms/step - loss: 0.0000e+00 - accuracy: 1.0000 - lr: 0.0010\n",
            "Epoch 2/10\n",
            "25/25 [==============================] - 0s 9ms/step - loss: 0.0000e+00 - accuracy: 1.0000 - lr: 0.0010\n",
            "Epoch 3/10\n",
            "25/25 [==============================] - 0s 9ms/step - loss: 0.0000e+00 - accuracy: 1.0000 - lr: 0.0010\n",
            "Epoch 4/10\n",
            "25/25 [==============================] - 0s 17ms/step - loss: 0.0000e+00 - accuracy: 1.0000 - lr: 0.0010\n",
            "Epoch 5/10\n",
            "25/25 [==============================] - 0s 16ms/step - loss: 0.0000e+00 - accuracy: 1.0000 - lr: 0.0010\n",
            "Epoch 6/10\n",
            "25/25 [==============================] - 0s 16ms/step - loss: 0.0000e+00 - accuracy: 1.0000 - lr: 0.0010\n",
            "Epoch 7/10\n",
            "25/25 [==============================] - 0s 16ms/step - loss: 0.0000e+00 - accuracy: 1.0000 - lr: 1.0000e-04\n",
            "Epoch 8/10\n",
            "25/25 [==============================] - 0s 11ms/step - loss: 0.0000e+00 - accuracy: 1.0000 - lr: 1.0000e-04\n",
            "Epoch 9/10\n",
            "25/25 [==============================] - 0s 9ms/step - loss: 0.0000e+00 - accuracy: 1.0000 - lr: 1.0000e-04\n",
            "Epoch 10/10\n",
            "25/25 [==============================] - 0s 10ms/step - loss: 0.0000e+00 - accuracy: 1.0000 - lr: 1.0000e-04\n",
            "9/9 [==============================] - 0s 3ms/step\n",
            "Epoch 1/10\n",
            "20/20 [==============================] - 0s 10ms/step - loss: 0.0000e+00 - accuracy: 1.0000 - lr: 0.0010\n",
            "Epoch 2/10\n",
            "20/20 [==============================] - 0s 9ms/step - loss: 0.0000e+00 - accuracy: 1.0000 - lr: 0.0010\n",
            "Epoch 3/10\n",
            "20/20 [==============================] - 0s 9ms/step - loss: 0.0000e+00 - accuracy: 1.0000 - lr: 0.0010\n",
            "Epoch 4/10\n",
            "20/20 [==============================] - 0s 10ms/step - loss: 0.0000e+00 - accuracy: 1.0000 - lr: 0.0010\n",
            "Epoch 5/10\n",
            "20/20 [==============================] - 0s 10ms/step - loss: 0.0000e+00 - accuracy: 1.0000 - lr: 0.0010\n",
            "Epoch 6/10\n",
            "20/20 [==============================] - 0s 10ms/step - loss: 0.0000e+00 - accuracy: 1.0000 - lr: 0.0010\n",
            "Epoch 7/10\n",
            "20/20 [==============================] - 0s 9ms/step - loss: 0.0000e+00 - accuracy: 1.0000 - lr: 1.0000e-04\n",
            "Epoch 8/10\n",
            "20/20 [==============================] - 0s 10ms/step - loss: 0.0000e+00 - accuracy: 1.0000 - lr: 1.0000e-04\n",
            "Epoch 9/10\n",
            "20/20 [==============================] - 0s 10ms/step - loss: 0.0000e+00 - accuracy: 1.0000 - lr: 1.0000e-04\n",
            "Epoch 10/10\n",
            "20/20 [==============================] - 0s 10ms/step - loss: 0.0000e+00 - accuracy: 1.0000 - lr: 1.0000e-04\n",
            "13/13 [==============================] - 0s 3ms/step\n",
            "Epoch 1/10\n",
            "15/15 [==============================] - 0s 10ms/step - loss: 0.0000e+00 - accuracy: 1.0000 - lr: 0.0010\n",
            "Epoch 2/10\n",
            "15/15 [==============================] - 0s 10ms/step - loss: 0.0000e+00 - accuracy: 1.0000 - lr: 0.0010\n",
            "Epoch 3/10\n",
            "15/15 [==============================] - 0s 10ms/step - loss: 0.0000e+00 - accuracy: 1.0000 - lr: 0.0010\n",
            "Epoch 4/10\n",
            "15/15 [==============================] - 0s 10ms/step - loss: 0.0000e+00 - accuracy: 1.0000 - lr: 0.0010\n",
            "Epoch 5/10\n",
            "15/15 [==============================] - 0s 10ms/step - loss: 0.0000e+00 - accuracy: 1.0000 - lr: 0.0010\n",
            "Epoch 6/10\n",
            "15/15 [==============================] - 0s 10ms/step - loss: 0.0000e+00 - accuracy: 1.0000 - lr: 0.0010\n",
            "Epoch 7/10\n",
            "15/15 [==============================] - 0s 10ms/step - loss: 0.0000e+00 - accuracy: 1.0000 - lr: 1.0000e-04\n",
            "Epoch 8/10\n",
            "15/15 [==============================] - 0s 10ms/step - loss: 0.0000e+00 - accuracy: 1.0000 - lr: 1.0000e-04\n",
            "Epoch 9/10\n",
            "15/15 [==============================] - 0s 10ms/step - loss: 0.0000e+00 - accuracy: 1.0000 - lr: 1.0000e-04\n",
            "Epoch 10/10\n",
            "15/15 [==============================] - 0s 10ms/step - loss: 0.0000e+00 - accuracy: 1.0000 - lr: 1.0000e-04\n",
            "18/18 [==============================] - 0s 3ms/step\n",
            "Epoch 1/10\n",
            "10/10 [==============================] - 0s 10ms/step - loss: 0.0000e+00 - accuracy: 1.0000 - lr: 0.0010\n",
            "Epoch 2/10\n",
            "10/10 [==============================] - 0s 10ms/step - loss: 0.0000e+00 - accuracy: 1.0000 - lr: 0.0010\n",
            "Epoch 3/10\n",
            "10/10 [==============================] - 0s 9ms/step - loss: 0.0000e+00 - accuracy: 1.0000 - lr: 0.0010\n",
            "Epoch 4/10\n",
            "10/10 [==============================] - 0s 11ms/step - loss: 0.0000e+00 - accuracy: 1.0000 - lr: 0.0010\n",
            "Epoch 5/10\n",
            "10/10 [==============================] - 0s 10ms/step - loss: 0.0000e+00 - accuracy: 1.0000 - lr: 0.0010\n",
            "Epoch 6/10\n",
            "10/10 [==============================] - 0s 10ms/step - loss: 0.0000e+00 - accuracy: 1.0000 - lr: 0.0010\n",
            "Epoch 7/10\n",
            "10/10 [==============================] - 0s 9ms/step - loss: 0.0000e+00 - accuracy: 1.0000 - lr: 1.0000e-04\n",
            "Epoch 8/10\n",
            "10/10 [==============================] - 0s 10ms/step - loss: 0.0000e+00 - accuracy: 1.0000 - lr: 1.0000e-04\n",
            "Epoch 9/10\n",
            "10/10 [==============================] - 0s 9ms/step - loss: 0.0000e+00 - accuracy: 1.0000 - lr: 1.0000e-04\n",
            "Epoch 10/10\n",
            "10/10 [==============================] - 0s 9ms/step - loss: 0.0000e+00 - accuracy: 1.0000 - lr: 1.0000e-04\n",
            "23/23 [==============================] - 0s 3ms/step\n",
            "Epoch 1/10\n",
            "5/5 [==============================] - 0s 10ms/step - loss: 0.0000e+00 - accuracy: 1.0000 - lr: 0.0010\n",
            "Epoch 2/10\n",
            "5/5 [==============================] - 0s 11ms/step - loss: 0.0000e+00 - accuracy: 1.0000 - lr: 0.0010\n",
            "Epoch 3/10\n",
            "5/5 [==============================] - 0s 11ms/step - loss: 0.0000e+00 - accuracy: 1.0000 - lr: 0.0010\n",
            "Epoch 4/10\n",
            "5/5 [==============================] - 0s 10ms/step - loss: 0.0000e+00 - accuracy: 1.0000 - lr: 0.0010\n",
            "Epoch 5/10\n",
            "5/5 [==============================] - 0s 10ms/step - loss: 0.0000e+00 - accuracy: 1.0000 - lr: 0.0010\n",
            "Epoch 6/10\n",
            "5/5 [==============================] - 0s 9ms/step - loss: 0.0000e+00 - accuracy: 1.0000 - lr: 0.0010\n",
            "Epoch 7/10\n",
            "5/5 [==============================] - 0s 10ms/step - loss: 0.0000e+00 - accuracy: 1.0000 - lr: 1.0000e-04\n",
            "Epoch 8/10\n",
            "5/5 [==============================] - 0s 10ms/step - loss: 0.0000e+00 - accuracy: 1.0000 - lr: 1.0000e-04\n",
            "Epoch 9/10\n",
            "5/5 [==============================] - 0s 10ms/step - loss: 0.0000e+00 - accuracy: 1.0000 - lr: 1.0000e-04\n",
            "Epoch 10/10\n",
            "5/5 [==============================] - 0s 10ms/step - loss: 0.0000e+00 - accuracy: 1.0000 - lr: 1.0000e-04\n",
            "28/28 [==============================] - 0s 3ms/step\n"
          ]
        }
      ],
      "source": [
        "batch_size = 32\n",
        "NUM_EPOCH = 10\n",
        "\n",
        "pred_list = []\n",
        "con = []\n",
        "tsss = []\n",
        "\n",
        "for j in range(10, 98, 15):\n",
        "    j /= 100  # Convert j back to its original floating-point value\n",
        "\n",
        "    # Uncomment the lines below if necessary\n",
        "    # L1 = np.random.randint(0, len(zm1), 260)\n",
        "    # L2 = np.random.randint(0, len(zm2), 780)\n",
        "\n",
        "    all_data = np.concatenate([zm1, zm2])\n",
        "    all_labels = np.concatenate([stars_labels, galaxies_labels])\n",
        "\n",
        "    X_train, X_test, y_train, y_test = train_test_split(all_data, all_labels, test_size=j)\n",
        "    X_train = X_train.reshape((X_train.shape[0], 903, 1))\n",
        "    X_test = X_test.reshape((X_test.shape[0], 903, 1))\n",
        "\n",
        "    y_train_encoded = to_categorical(y_train, num_classes=2)\n",
        "    y_test_encoded = to_categorical(y_test, num_classes=2)\n",
        "\n",
        "    history = model.fit(X_train, y_train_encoded, batch_size=batch_size, epochs=NUM_EPOCH, callbacks=[lr_scheduler])\n",
        "    y_pred = model.predict(X_test)\n",
        "    y_pred_labels = np.argmax(y_pred, axis=1)\n",
        "    pred_list.append(y_pred_labels)\n",
        "    con0 = confusion_matrix(np.argmax(y_test_encoded, axis=1), y_pred_labels)\n",
        "    con.append(con0)\n",
        "    tp = con0[0, 0]\n",
        "    fn = con0[0, 1]\n",
        "    fp = con0[1, 0]\n",
        "    tn = con0[1, 1]\n",
        "    tss = (tp / (tp + fn)) - (fp / (fp + tn))\n",
        "    tsss.append(tss)"
      ]
    },
    {
      "cell_type": "code",
      "execution_count": null,
      "metadata": {
        "colab": {
          "base_uri": "https://localhost:8080/",
          "height": 447
        },
        "id": "YB48Z11qp9wJ",
        "outputId": "d933d231-33fc-4177-c4fa-748a84e2468e"
      },
      "outputs": [
        {
          "output_type": "execute_result",
          "data": {
            "text/plain": [
              "[<matplotlib.lines.Line2D at 0x7f5afab7e050>]"
            ]
          },
          "metadata": {},
          "execution_count": 17
        },
        {
          "output_type": "display_data",
          "data": {
            "text/plain": [
              "<Figure size 640x480 with 1 Axes>"
            ],
            "image/png": "[encoded data removed]"
          },
          "metadata": {}
        }
      ],
      "source": [
        "plt.plot(tsss)"
      ]
    },
    {
      "cell_type": "code",
      "source": [
        "print(con[2])"
      ],
      "metadata": {
        "colab": {
          "base_uri": "https://localhost:8080/"
        },
        "id": "UD4QglWM2Bpf",
        "outputId": "d66c1339-e3c5-4fe2-b881-d1294049e006"
      },
      "execution_count": null,
      "outputs": [
        {
          "output_type": "stream",
          "name": "stdout",
          "text": [
            "[[29  3]\n",
            " [ 0 72]]\n"
          ]
        }
      ]
    },
    {
      "cell_type": "code",
      "execution_count": null,
      "metadata": {
        "colab": {
          "base_uri": "https://localhost:8080/"
        },
        "id": "xcTRHYldp9wJ",
        "outputId": "7b7a1f83-6e39-4c79-e4ee-7e94b59e3dc2"
      },
      "outputs": [
        {
          "output_type": "stream",
          "name": "stdout",
          "text": [
            "0.9812076591798866 0.07840064545054198\n"
          ]
        }
      ],
      "source": [
        "mean_tss = np.mean(tsss)\n",
        "std_tss = np.std(tsss)\n",
        "print(mean_tss, std_tss)"
      ]
    },
    {
      "cell_type": "code",
      "source": [
        "tp = con0[0,0]\n",
        "fn = con0[0,1]\n",
        "fp = con0[1,0]\n",
        "tn = con0[1,1]\n",
        "tss = (tp/(tp+fn))-(fp/(fp+tn))"
      ],
      "metadata": {
        "id": "eE-39DzH1XN3"
      },
      "execution_count": null,
      "outputs": []
    },
    {
      "cell_type": "markdown",
      "metadata": {
        "id": "6EO4h9jap9wJ"
      },
      "source": [
        "#### Performance and test the model"
      ]
    },
    {
      "cell_type": "code",
      "execution_count": null,
      "metadata": {
        "colab": {
          "base_uri": "https://localhost:8080/",
          "height": 407
        },
        "id": "DvlL76z5p9wK",
        "outputId": "f6b048e0-3058-400f-9b5b-73297dff4602"
      },
      "outputs": [
        {
          "output_type": "display_data",
          "data": {
            "text/plain": [
              "<Figure size 1200x400 with 2 Axes>"
            ],
            "image/png": "[encoded data removed]"
          },
          "metadata": {}
        }
      ],
      "source": [
        "import matplotlib.pyplot as plt\n",
        "import json\n",
        "\n",
        "# Define the function to plot training history\n",
        "def plot_training(history):\n",
        "    plt.figure(figsize=(12, 4))\n",
        "\n",
        "    # Plot training loss\n",
        "    plt.subplot(1, 2, 1)\n",
        "    plt.plot(history.history['loss'], label='Training Loss')\n",
        "    plt.xlabel('Epoch')\n",
        "    plt.ylabel('Loss')\n",
        "    plt.title('Training Loss')\n",
        "    plt.legend()\n",
        "\n",
        "    # Plot training accuracy\n",
        "    plt.subplot(1, 2, 2)\n",
        "    plt.plot(history.history['accuracy'], label='Training Accuracy')\n",
        "    plt.xlabel('Epoch')\n",
        "    plt.ylabel('Accuracy')\n",
        "    plt.title('Training Accuracy')\n",
        "    plt.legend()\n",
        "\n",
        "    plt.tight_layout()\n",
        "    plt.show()\n",
        "\n",
        "\n",
        "plot_training(history)\n",
        "plt.show()"
      ]
    },
    {
      "cell_type": "code",
      "execution_count": null,
      "metadata": {
        "colab": {
          "base_uri": "https://localhost:8080/"
        },
        "id": "euXTlsAZp9wK",
        "outputId": "f827673c-25ee-4cd4-efb8-1058b5050fcf"
      },
      "outputs": [
        {
          "output_type": "stream",
          "name": "stdout",
          "text": [
            "28/28 [==============================] - 0s 5ms/step\n",
            "              precision    recall  f1-score   support\n",
            "\n",
            "           0       1.00      1.00      1.00       223\n",
            "           1       1.00      1.00      1.00       661\n",
            "\n",
            "    accuracy                           1.00       884\n",
            "   macro avg       1.00      1.00      1.00       884\n",
            "weighted avg       1.00      1.00      1.00       884\n",
            "\n"
          ]
        }
      ],
      "source": [
        "y_pred = model.predict(X_test)\n",
        "y_pred_labels = np.argmax(y_pred, axis=1)\n",
        "classification_metrics = classification_report(y_pred_labels, y_test)\n",
        "print(classification_metrics)"
      ]
    },
    {
      "cell_type": "code",
      "execution_count": null,
      "metadata": {
        "colab": {
          "base_uri": "https://localhost:8080/",
          "height": 449
        },
        "id": "ZYav-3nep9wK",
        "outputId": "ec799907-a9b5-4114-f44a-a808b3ce4833"
      },
      "outputs": [
        {
          "output_type": "display_data",
          "data": {
            "text/plain": [
              "<Figure size 640x480 with 1 Axes>"
            ],
            "image/png": "[encoded data removed]"
          },
          "metadata": {}
        }
      ],
      "source": [
        "fpr, tpr, _ = metrics.roc_curve(y_test,  y_pred_labels)\n",
        "#create ROC curve\n",
        "plt.plot(fpr,tpr)\n",
        "plt.ylabel('True Positive Rate')\n",
        "plt.xlabel('False Positive Rate')\n",
        "plt.show()"
      ]
    },
    {
      "cell_type": "code",
      "execution_count": null,
      "metadata": {
        "colab": {
          "base_uri": "https://localhost:8080/"
        },
        "id": "Ryqc4PJOp9wK",
        "outputId": "f58d00d6-e4b8-4532-9b4b-81df94d21051"
      },
      "outputs": [
        {
          "output_type": "stream",
          "name": "stdout",
          "text": [
            "0.9600000000000001\n"
          ]
        }
      ],
      "source": [
        "auc = metrics.roc_auc_score(y_test, y_pred_labels)\n",
        "print(auc)"
      ]
    },
    {
      "cell_type": "code",
      "execution_count": null,
      "metadata": {
        "id": "-9BwlpmRp9wL"
      },
      "outputs": [],
      "source": [
        "con0 = confusion_matrix(np.argmax(y_test_encoded, axis=1), y_pred_labels)\n",
        "accuracy = accuracy_score(np.argmax(y_test_encoded, axis=1), y_pred_labels)\n",
        "\n",
        "print(classification_metrics)\n",
        "print(\"Confusion Matrix:\\n\", con0)\n",
        "print(\"Accuracy:\", accuracy)\n"
      ]
    },
    {
      "cell_type": "code",
      "execution_count": null,
      "metadata": {
        "id": "MwQnEF4Tp9wL",
        "outputId": "153085f1-e6cc-47b2-c25f-d8ccc06f8592"
      },
      "outputs": [
        {
          "name": "stdout",
          "output_type": "stream",
          "text": [
            "[[28  2]\n",
            " [ 2 29]] 0.9344262295081968\n"
          ]
        }
      ],
      "source": [
        "con0 = confusion_matrix(np.argmax(y_test_encoded, axis=1), y_pred_labels)\n",
        "accuracy = accuracy_score(np.argmax(y_test_encoded, axis=1), y_pred_labels)\n",
        "print(con0, accuracy)"
      ]
    },
    {
      "cell_type": "code",
      "execution_count": null,
      "metadata": {
        "id": "0Q8Jdp1Lp9wM"
      },
      "outputs": [],
      "source": []
    }
  ],
  "metadata": {
    "kernelspec": {
      "display_name": "Python 3",
      "name": "python3"
    },
    "language_info": {
      "codemirror_mode": {
        "name": "ipython",
        "version": 3
      },
      "file_extension": ".py",
      "mimetype": "text/x-python",
      "name": "python",
      "nbconvert_exporter": "python",
      "pygments_lexer": "ipython3",
      "version": "3.11.8"
    },
    "colab": {
      "provenance": [],
      "gpuType": "T4"
    },
    "accelerator": "GPU"
  },
  "nbformat": 4,
  "nbformat_minor": 0
}