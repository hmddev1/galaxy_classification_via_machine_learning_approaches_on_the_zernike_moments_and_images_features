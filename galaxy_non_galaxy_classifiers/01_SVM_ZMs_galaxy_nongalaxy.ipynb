{
  "cells": [
    {
      "cell_type": "code",
      "execution_count": null,
      "metadata": {
        "id": "Qma9b0d_c5b1"
      },
      "outputs": [],
      "source": [
        "#Import packages\n",
        "\n",
        "import numpy as np\n",
        "from sklearn.svm import SVC\n",
        "from sklearn.model_selection import train_test_split\n",
        "from sklearn import metrics\n",
        "from sklearn.metrics import accuracy_score\n",
        "import pickle\n",
        "import pandas as pd\n",
        "import matplotlib.pyplot as plt\n",
        "from sklearn.metrics import (roc_curve, roc_auc_score, auc, log_loss,\n",
        "                             precision_score, recall_score, f1_score,\n",
        "                             accuracy_score, classification_report,\n",
        "                             ConfusionMatrixDisplay, confusion_matrix)"
      ]
    },
    {
      "cell_type": "code",
      "execution_count": null,
      "metadata": {
        "colab": {
          "base_uri": "https://localhost:8080/"
        },
        "id": "AT-FdU4Rz439",
        "outputId": "5ce40898-4f2c-4ff4-fb35-7146910c0e9f"
      },
      "outputs": [],
      "source": [
        "# If using Google Colab.\n",
        "\n",
        "from google.colab import drive\n",
        "drive.mount('/content/drive')"
      ]
    },
    {
      "cell_type": "markdown",
      "metadata": {},
      "source": [
        "##### The ZEMO python package [https://pypi.org/project/ZEMO/] can be used to compute Zernike moments for your images. This library is described in a research paper you can find online [[arxiv:2308.13562](https://arxiv.org/abs/2308.13562v2)]."
      ]
    },
    {
      "cell_type": "code",
      "execution_count": null,
      "metadata": {
        "colab": {
          "base_uri": "https://localhost:8080/"
        },
        "id": "vqHJYkXEc5b4",
        "outputId": "d4bad796-a51a-4908-8a5c-e01e196a2f11"
      },
      "outputs": [],
      "source": [
        "zm_nongalaxy = pd.read_csv('/path/to/your/direcotry/zms_data.csv')\n",
        "zm_galaxy = pd.read_csv('/path/to/your/direcotry/zms_data.csv')\n",
        "\n",
        "zm_nongalaxy.drop(\"Unnamed: 0\", axis = 1, inplace = True)\n",
        "zm_galaxy.drop(\"Unnamed: 0\", axis = 1, inplace = True)\n",
        "\n",
        "zms1 = np.array(zm_nongalaxy)\n",
        "zmg1 = np.array(zm_galaxy)\n",
        "\n",
        "all_zm_data = np.concatenate([zmg1,zms1])\n",
        "len(zmg1), len(zms1), len(all_zm_data)"
      ]
    },
    {
      "cell_type": "code",
      "execution_count": null,
      "metadata": {
        "colab": {
          "base_uri": "https://localhost:8080/"
        },
        "id": "LhFySzRMYgzd",
        "outputId": "c15a32ef-902c-49f7-cad1-4edd548940f5"
      },
      "outputs": [],
      "source": [
        "# labels due to the length of data \n",
        "\n",
        "galaxies_labels = np.zeros(780)\n",
        "nongalaxy_labels = np.ones(545)\n",
        "all_labels = np.concatenate([galaxies_labels, nongalaxy_labels])\n",
        "len(all_labels)"
      ]
    },
    {
      "cell_type": "code",
      "execution_count": null,
      "metadata": {
        "colab": {
          "base_uri": "https://localhost:8080/"
        },
        "id": "0N6WXMVc0R0X",
        "outputId": "c32c26f9-67ec-42dd-beaa-46061f21fc3e"
      },
      "outputs": [],
      "source": [
        "# Check the class weights \n",
        "\n",
        "total_samples = len(all_zm_data)\n",
        "\n",
        "class_weights = {\n",
        "    0: total_samples / (3*len(zmg1)),  # Class 0 weight\n",
        "    1: total_samples / (3*len(zms1)),   # Class 1 weight\n",
        "}\n",
        "\n",
        "print(\"Class Weights based on Inverse Class Frequency:\")\n",
        "print(\"Class 1 Weight:\", class_weights[0])\n",
        "print(\"Class 2 Weight:\", class_weights[1])"
      ]
    },
    {
      "cell_type": "code",
      "execution_count": null,
      "metadata": {
        "id": "5uV8388_eNlj"
      },
      "outputs": [],
      "source": [
        "# Run the model for 10 iterations and calculate the standard deviation.\n",
        "# You can save the performance materials and the models outputs. \n",
        "\n",
        "y_test_list=[]\n",
        "models=[]\n",
        "Y_pred=[]\n",
        "accs=[]\n",
        "cons=[]\n",
        "test_indx = []\n",
        "\n",
        "for i in range (10):\n",
        "    X_train, X_test, y_train, y_test, train_indices, test_indices = train_test_split(all_zm_data, all_labels, np.arange(len(all_labels)), test_size=0.25, shuffle=True, random_state=None)\n",
        "    y_test_list.append(y_test)\n",
        "    test_indx.append(test_indices)\n",
        "\n",
        "    class_weights = {0: len(all_zm_data) / (2*len(zmg1)), 1: len(all_zm_data) / (2*len(zms1))}\n",
        "\n",
        "    model = SVC(kernel='rbf', probability=True, C=1.5, gamma='scale',class_weight=class_weights)\n",
        "    gz2_training_model = model.fit(X_train, y_train)\n",
        "    models.append(gz2_training_model)\n",
        "\n",
        "    y_pred = model.predict(X_test)\n",
        "    Y_pred.append(y_pred)\n",
        "\n",
        "    con0 = metrics.confusion_matrix(y_test, y_pred)\n",
        "    cons.append(con0)\n",
        "\n",
        "    acc = metrics.accuracy_score(y_test, y_pred)\n",
        "    accs.append(acc)"
      ]
    },
    {
      "cell_type": "code",
      "execution_count": null,
      "metadata": {
        "id": "exiMUnHBNOGJ"
      },
      "outputs": [],
      "source": [
        "# To save any output you need.\n",
        "\n",
        "output_el_path = '/path/to/your/direcotry'\n",
        "import os\n",
        "pickle_el_filename = 'performances_of_galaxy_nonegalaxy.pickle'\n",
        "pickle_el_filepath = os.path.join(output_el_path, pickle_el_filename)\n",
        "\n",
        "with open(pickle_el_filepath, 'wb') as pickle_file:\n",
        "    pickle.dump(accs, pickle_file)\n"
      ]
    },
    {
      "cell_type": "code",
      "execution_count": null,
      "metadata": {
        "colab": {
          "base_uri": "https://localhost:8080/",
          "height": 465
        },
        "id": "GNkms73218l2",
        "outputId": "59c9e276-851b-4fc3-bc4e-8badb8c687a5"
      },
      "outputs": [],
      "source": [
        "print(np.mean(accs), np.std(accs))\n",
        "plt.plot(accs)"
      ]
    }
  ],
  "metadata": {
    "colab": {
      "provenance": []
    },
    "kernelspec": {
      "display_name": "Python 3",
      "name": "python3"
    },
    "language_info": {
      "codemirror_mode": {
        "name": "ipython",
        "version": 3
      },
      "file_extension": ".py",
      "mimetype": "text/x-python",
      "name": "python",
      "nbconvert_exporter": "python",
      "pygments_lexer": "ipython3",
      "version": "3.11.8"
    }
  },
  "nbformat": 4,
  "nbformat_minor": 0
}
